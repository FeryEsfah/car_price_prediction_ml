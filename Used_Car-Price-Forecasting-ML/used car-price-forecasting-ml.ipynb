{
 "cells": [
  {
   "cell_type": "code",
   "execution_count": 87,
   "id": "38a234a5-13b1-4f8c-9dbd-8eec94b80d16",
   "metadata": {},
   "outputs": [],
   "source": [
    "import numpy as np\n",
    "import pandas as pd\n",
    "from sklearn.linear_model import LogisticRegression, LogisticRegressionCV\n",
    "from sklearn.model_selection import train_test_split\n",
    "import statsmodels.api as sm\n",
    "import matplotlib.pylab as plt\n",
    "import seaborn as sns\n",
    "from statsmodels.tools.tools import add_constant\n",
    "from sklearn.model_selection import train_test_split, cross_val_score\n",
    "from sklearn.preprocessing import StandardScaler\n",
    "from statsmodels.stats.outliers_influence import variance_inflation_factor\n",
    "from sklearn.preprocessing import StandardScaler\n",
    "from scipy.stats import chi2_contingency\n",
    "from sklearn.tree import DecisionTreeClassifier\n",
    "from sklearn.tree import plot_tree\n",
    "from sklearn.metrics import mean_squared_error, r2_score\n",
    "from sklearn.tree import DecisionTreeRegressor\n",
    "from sklearn.linear_model import Ridge\n",
    "from sklearn.metrics import confusion_matrix, accuracy_score, precision_score, recall_score, classification_report,f1_score"
   ]
  },
  {
   "cell_type": "markdown",
   "id": "4fc31716-0e69-47fa-b73d-5ebe82cf8576",
   "metadata": {},
   "source": [
    "# Q1) Import the dataset: Load the data into your analysis environment."
   ]
  },
  {
   "cell_type": "code",
   "execution_count": 88,
   "id": "97a7fc02-05cf-4e16-bff9-aa520f691506",
   "metadata": {},
   "outputs": [
    {
     "data": {
      "text/html": [
       "<div>\n",
       "<style scoped>\n",
       "    .dataframe tbody tr th:only-of-type {\n",
       "        vertical-align: middle;\n",
       "    }\n",
       "\n",
       "    .dataframe tbody tr th {\n",
       "        vertical-align: top;\n",
       "    }\n",
       "\n",
       "    .dataframe thead th {\n",
       "        text-align: right;\n",
       "    }\n",
       "</style>\n",
       "<table border=\"1\" class=\"dataframe\">\n",
       "  <thead>\n",
       "    <tr style=\"text-align: right;\">\n",
       "      <th></th>\n",
       "      <th>car_brand</th>\n",
       "      <th>car_model</th>\n",
       "      <th>car_driven</th>\n",
       "      <th>car_transmission</th>\n",
       "      <th>car_model_year</th>\n",
       "      <th>car_price</th>\n",
       "    </tr>\n",
       "  </thead>\n",
       "  <tbody>\n",
       "    <tr>\n",
       "      <th>0</th>\n",
       "      <td>Hyundai</td>\n",
       "      <td>Tucson</td>\n",
       "      <td>83491.0</td>\n",
       "      <td>Automatic</td>\n",
       "      <td>2018</td>\n",
       "      <td>64000.0</td>\n",
       "    </tr>\n",
       "    <tr>\n",
       "      <th>1</th>\n",
       "      <td>Chevrolet</td>\n",
       "      <td>Trailblazer</td>\n",
       "      <td>222000.0</td>\n",
       "      <td>Automatic</td>\n",
       "      <td>2009</td>\n",
       "      <td>20000.0</td>\n",
       "    </tr>\n",
       "    <tr>\n",
       "      <th>2</th>\n",
       "      <td>Great</td>\n",
       "      <td>Wall</td>\n",
       "      <td>0.0</td>\n",
       "      <td>Automatic</td>\n",
       "      <td>2022</td>\n",
       "      <td>135000.0</td>\n",
       "    </tr>\n",
       "    <tr>\n",
       "      <th>3</th>\n",
       "      <td>Ford</td>\n",
       "      <td>Fusion</td>\n",
       "      <td>178000.0</td>\n",
       "      <td>Automatic</td>\n",
       "      <td>2012</td>\n",
       "      <td>23000.0</td>\n",
       "    </tr>\n",
       "    <tr>\n",
       "      <th>4</th>\n",
       "      <td>Mitsubishi</td>\n",
       "      <td>Attrage</td>\n",
       "      <td>10500.0</td>\n",
       "      <td>Automatic</td>\n",
       "      <td>2020</td>\n",
       "      <td>32000.0</td>\n",
       "    </tr>\n",
       "    <tr>\n",
       "      <th>...</th>\n",
       "      <td>...</td>\n",
       "      <td>...</td>\n",
       "      <td>...</td>\n",
       "      <td>...</td>\n",
       "      <td>...</td>\n",
       "      <td>...</td>\n",
       "    </tr>\n",
       "    <tr>\n",
       "      <th>2282</th>\n",
       "      <td>BMW</td>\n",
       "      <td>7</td>\n",
       "      <td>99000.0</td>\n",
       "      <td>Automatic</td>\n",
       "      <td>2015</td>\n",
       "      <td>103000.0</td>\n",
       "    </tr>\n",
       "    <tr>\n",
       "      <th>2283</th>\n",
       "      <td>Ford</td>\n",
       "      <td>Expedition</td>\n",
       "      <td>33000.0</td>\n",
       "      <td>Automatic</td>\n",
       "      <td>2018</td>\n",
       "      <td>185000.0</td>\n",
       "    </tr>\n",
       "    <tr>\n",
       "      <th>2284</th>\n",
       "      <td>Chevrolet</td>\n",
       "      <td>Tahoe</td>\n",
       "      <td>48000.0</td>\n",
       "      <td>Automatic</td>\n",
       "      <td>2018</td>\n",
       "      <td>135000.0</td>\n",
       "    </tr>\n",
       "    <tr>\n",
       "      <th>2285</th>\n",
       "      <td>Chevrolet</td>\n",
       "      <td>Tahoe</td>\n",
       "      <td>50000.0</td>\n",
       "      <td>Automatic</td>\n",
       "      <td>2018</td>\n",
       "      <td>135000.0</td>\n",
       "    </tr>\n",
       "    <tr>\n",
       "      <th>2286</th>\n",
       "      <td>Hyundai</td>\n",
       "      <td>Sonata</td>\n",
       "      <td>76000.0</td>\n",
       "      <td>Automatic</td>\n",
       "      <td>2016</td>\n",
       "      <td>73000.0</td>\n",
       "    </tr>\n",
       "  </tbody>\n",
       "</table>\n",
       "<p>2287 rows × 6 columns</p>\n",
       "</div>"
      ],
      "text/plain": [
       "       car_brand    car_model  car_driven car_transmission  car_model_year  \\\n",
       "0        Hyundai       Tucson     83491.0        Automatic            2018   \n",
       "1      Chevrolet  Trailblazer    222000.0        Automatic            2009   \n",
       "2          Great         Wall         0.0        Automatic            2022   \n",
       "3           Ford       Fusion    178000.0        Automatic            2012   \n",
       "4     Mitsubishi      Attrage     10500.0        Automatic            2020   \n",
       "...          ...          ...         ...              ...             ...   \n",
       "2282         BMW            7     99000.0        Automatic            2015   \n",
       "2283        Ford   Expedition     33000.0        Automatic            2018   \n",
       "2284   Chevrolet        Tahoe     48000.0        Automatic            2018   \n",
       "2285   Chevrolet        Tahoe     50000.0        Automatic            2018   \n",
       "2286     Hyundai       Sonata     76000.0        Automatic            2016   \n",
       "\n",
       "      car_price  \n",
       "0       64000.0  \n",
       "1       20000.0  \n",
       "2      135000.0  \n",
       "3       23000.0  \n",
       "4       32000.0  \n",
       "...         ...  \n",
       "2282   103000.0  \n",
       "2283   185000.0  \n",
       "2284   135000.0  \n",
       "2285   135000.0  \n",
       "2286    73000.0  \n",
       "\n",
       "[2287 rows x 6 columns]"
      ]
     },
     "execution_count": 88,
     "metadata": {},
     "output_type": "execute_result"
    }
   ],
   "source": [
    "df=pd.read_csv('used_car_cleaned.csv')\n",
    "df"
   ]
  },
  {
   "cell_type": "code",
   "execution_count": null,
   "id": "61aea15a-fa56-4f0a-b90f-026d8e30c9bd",
   "metadata": {},
   "outputs": [],
   "source": [
    "# First we read a CSV file named used_car_cleaned.csv into a pandas DataFrame called df, allowing for easy manipulation and analysis of the dataset.\n",
    "\n",
    "# By executing df, we can view the contents of the DataFrame, which includes various columns representing attributes of used cars, such as price,\n",
    "#transmission type, mileage, year, brand and model of car."
   ]
  },
  {
   "cell_type": "markdown",
   "id": "4299a7d4-7f58-4e0c-9af2-f3fb9e367cdb",
   "metadata": {},
   "source": [
    "# Q2) Display records: Show the first 5 and last 5 records of the dataset."
   ]
  },
  {
   "cell_type": "code",
   "execution_count": 89,
   "id": "1ca4c586-3f3d-4528-8d49-1f1b0dd4c4e7",
   "metadata": {},
   "outputs": [
    {
     "data": {
      "text/html": [
       "<div>\n",
       "<style scoped>\n",
       "    .dataframe tbody tr th:only-of-type {\n",
       "        vertical-align: middle;\n",
       "    }\n",
       "\n",
       "    .dataframe tbody tr th {\n",
       "        vertical-align: top;\n",
       "    }\n",
       "\n",
       "    .dataframe thead th {\n",
       "        text-align: right;\n",
       "    }\n",
       "</style>\n",
       "<table border=\"1\" class=\"dataframe\">\n",
       "  <thead>\n",
       "    <tr style=\"text-align: right;\">\n",
       "      <th></th>\n",
       "      <th>car_brand</th>\n",
       "      <th>car_model</th>\n",
       "      <th>car_driven</th>\n",
       "      <th>car_transmission</th>\n",
       "      <th>car_model_year</th>\n",
       "      <th>car_price</th>\n",
       "    </tr>\n",
       "  </thead>\n",
       "  <tbody>\n",
       "    <tr>\n",
       "      <th>0</th>\n",
       "      <td>Hyundai</td>\n",
       "      <td>Tucson</td>\n",
       "      <td>83491.0</td>\n",
       "      <td>Automatic</td>\n",
       "      <td>2018</td>\n",
       "      <td>64000.0</td>\n",
       "    </tr>\n",
       "    <tr>\n",
       "      <th>1</th>\n",
       "      <td>Chevrolet</td>\n",
       "      <td>Trailblazer</td>\n",
       "      <td>222000.0</td>\n",
       "      <td>Automatic</td>\n",
       "      <td>2009</td>\n",
       "      <td>20000.0</td>\n",
       "    </tr>\n",
       "    <tr>\n",
       "      <th>2</th>\n",
       "      <td>Great</td>\n",
       "      <td>Wall</td>\n",
       "      <td>0.0</td>\n",
       "      <td>Automatic</td>\n",
       "      <td>2022</td>\n",
       "      <td>135000.0</td>\n",
       "    </tr>\n",
       "    <tr>\n",
       "      <th>3</th>\n",
       "      <td>Ford</td>\n",
       "      <td>Fusion</td>\n",
       "      <td>178000.0</td>\n",
       "      <td>Automatic</td>\n",
       "      <td>2012</td>\n",
       "      <td>23000.0</td>\n",
       "    </tr>\n",
       "    <tr>\n",
       "      <th>4</th>\n",
       "      <td>Mitsubishi</td>\n",
       "      <td>Attrage</td>\n",
       "      <td>10500.0</td>\n",
       "      <td>Automatic</td>\n",
       "      <td>2020</td>\n",
       "      <td>32000.0</td>\n",
       "    </tr>\n",
       "  </tbody>\n",
       "</table>\n",
       "</div>"
      ],
      "text/plain": [
       "    car_brand    car_model  car_driven car_transmission  car_model_year  \\\n",
       "0     Hyundai       Tucson     83491.0        Automatic            2018   \n",
       "1   Chevrolet  Trailblazer    222000.0        Automatic            2009   \n",
       "2       Great         Wall         0.0        Automatic            2022   \n",
       "3        Ford       Fusion    178000.0        Automatic            2012   \n",
       "4  Mitsubishi      Attrage     10500.0        Automatic            2020   \n",
       "\n",
       "   car_price  \n",
       "0    64000.0  \n",
       "1    20000.0  \n",
       "2   135000.0  \n",
       "3    23000.0  \n",
       "4    32000.0  "
      ]
     },
     "execution_count": 89,
     "metadata": {},
     "output_type": "execute_result"
    }
   ],
   "source": [
    "df=pd.read_csv('used_car_cleaned.csv')\n",
    "df.head(5)"
   ]
  },
  {
   "cell_type": "code",
   "execution_count": null,
   "id": "2f4a0781-debc-4498-99a6-b8df991eb2a4",
   "metadata": {},
   "outputs": [],
   "source": [
    "#The code df.head(5) displays the first five rows of the DataFrame df, providing a quick glimpse of the dataset's concluding entries."
   ]
  },
  {
   "cell_type": "code",
   "execution_count": 8,
   "id": "2f7e4c9a-e7bb-4315-a08e-9b0bb12f3250",
   "metadata": {},
   "outputs": [
    {
     "data": {
      "text/html": [
       "<div>\n",
       "<style scoped>\n",
       "    .dataframe tbody tr th:only-of-type {\n",
       "        vertical-align: middle;\n",
       "    }\n",
       "\n",
       "    .dataframe tbody tr th {\n",
       "        vertical-align: top;\n",
       "    }\n",
       "\n",
       "    .dataframe thead th {\n",
       "        text-align: right;\n",
       "    }\n",
       "</style>\n",
       "<table border=\"1\" class=\"dataframe\">\n",
       "  <thead>\n",
       "    <tr style=\"text-align: right;\">\n",
       "      <th></th>\n",
       "      <th>car_brand</th>\n",
       "      <th>car_model</th>\n",
       "      <th>car_driven</th>\n",
       "      <th>car_transmission</th>\n",
       "      <th>car_model_year</th>\n",
       "      <th>car_price</th>\n",
       "    </tr>\n",
       "  </thead>\n",
       "  <tbody>\n",
       "    <tr>\n",
       "      <th>2282</th>\n",
       "      <td>BMW</td>\n",
       "      <td>7</td>\n",
       "      <td>99000.0</td>\n",
       "      <td>Automatic</td>\n",
       "      <td>2015</td>\n",
       "      <td>103000.0</td>\n",
       "    </tr>\n",
       "    <tr>\n",
       "      <th>2283</th>\n",
       "      <td>Ford</td>\n",
       "      <td>Expedition</td>\n",
       "      <td>33000.0</td>\n",
       "      <td>Automatic</td>\n",
       "      <td>2018</td>\n",
       "      <td>185000.0</td>\n",
       "    </tr>\n",
       "    <tr>\n",
       "      <th>2284</th>\n",
       "      <td>Chevrolet</td>\n",
       "      <td>Tahoe</td>\n",
       "      <td>48000.0</td>\n",
       "      <td>Automatic</td>\n",
       "      <td>2018</td>\n",
       "      <td>135000.0</td>\n",
       "    </tr>\n",
       "    <tr>\n",
       "      <th>2285</th>\n",
       "      <td>Chevrolet</td>\n",
       "      <td>Tahoe</td>\n",
       "      <td>50000.0</td>\n",
       "      <td>Automatic</td>\n",
       "      <td>2018</td>\n",
       "      <td>135000.0</td>\n",
       "    </tr>\n",
       "    <tr>\n",
       "      <th>2286</th>\n",
       "      <td>Hyundai</td>\n",
       "      <td>Sonata</td>\n",
       "      <td>76000.0</td>\n",
       "      <td>Automatic</td>\n",
       "      <td>2016</td>\n",
       "      <td>73000.0</td>\n",
       "    </tr>\n",
       "  </tbody>\n",
       "</table>\n",
       "</div>"
      ],
      "text/plain": [
       "      car_brand   car_model  car_driven car_transmission  car_model_year  \\\n",
       "2282        BMW           7     99000.0        Automatic            2015   \n",
       "2283       Ford  Expedition     33000.0        Automatic            2018   \n",
       "2284  Chevrolet       Tahoe     48000.0        Automatic            2018   \n",
       "2285  Chevrolet       Tahoe     50000.0        Automatic            2018   \n",
       "2286    Hyundai      Sonata     76000.0        Automatic            2016   \n",
       "\n",
       "      car_price  \n",
       "2282   103000.0  \n",
       "2283   185000.0  \n",
       "2284   135000.0  \n",
       "2285   135000.0  \n",
       "2286    73000.0  "
      ]
     },
     "execution_count": 8,
     "metadata": {},
     "output_type": "execute_result"
    }
   ],
   "source": [
    "df.tail(5)"
   ]
  },
  {
   "cell_type": "code",
   "execution_count": null,
   "id": "3b6de965-99f1-4674-b5e1-dd5f5b7ba7d0",
   "metadata": {},
   "outputs": [],
   "source": [
    "# The code df.tail(5) displays the last five rows of the DataFrame df, providing a quick glimpse of the dataset's concluding entries."
   ]
  },
  {
   "cell_type": "markdown",
   "id": "09898181-51cc-4ab6-ad8e-4c6f7e9c743d",
   "metadata": {},
   "source": [
    "# The data has 3 numeric(including 2 floats) and 3 categorical variables."
   ]
  },
  {
   "cell_type": "code",
   "execution_count": 7,
   "id": "ef6ea18f-d4de-49ad-b654-09fe8897fd69",
   "metadata": {},
   "outputs": [
    {
     "name": "stdout",
     "output_type": "stream",
     "text": [
      "<class 'pandas.core.frame.DataFrame'>\n",
      "RangeIndex: 2287 entries, 0 to 2286\n",
      "Data columns (total 6 columns):\n",
      " #   Column            Non-Null Count  Dtype  \n",
      "---  ------            --------------  -----  \n",
      " 0   car_brand         2287 non-null   object \n",
      " 1   car_model         2287 non-null   object \n",
      " 2   car_driven        2287 non-null   float64\n",
      " 3   car_transmission  2287 non-null   object \n",
      " 4   car_model_year    2287 non-null   int64  \n",
      " 5   car_price         2287 non-null   float64\n",
      "dtypes: float64(2), int64(1), object(3)\n",
      "memory usage: 107.3+ KB\n"
     ]
    }
   ],
   "source": [
    "# The code df.info() provides a summary of the DataFrame df, including the number of entries, column data types, and memory usage.\n",
    "df.info()"
   ]
  },
  {
   "cell_type": "code",
   "execution_count": 9,
   "id": "f590dfd8-6520-493f-a3e3-5a2ea6ce827b",
   "metadata": {},
   "outputs": [
    {
     "data": {
      "text/html": [
       "<div>\n",
       "<style scoped>\n",
       "    .dataframe tbody tr th:only-of-type {\n",
       "        vertical-align: middle;\n",
       "    }\n",
       "\n",
       "    .dataframe tbody tr th {\n",
       "        vertical-align: top;\n",
       "    }\n",
       "\n",
       "    .dataframe thead th {\n",
       "        text-align: right;\n",
       "    }\n",
       "</style>\n",
       "<table border=\"1\" class=\"dataframe\">\n",
       "  <thead>\n",
       "    <tr style=\"text-align: right;\">\n",
       "      <th></th>\n",
       "      <th>count</th>\n",
       "      <th>unique</th>\n",
       "      <th>top</th>\n",
       "      <th>freq</th>\n",
       "      <th>mean</th>\n",
       "      <th>std</th>\n",
       "      <th>min</th>\n",
       "      <th>25%</th>\n",
       "      <th>50%</th>\n",
       "      <th>75%</th>\n",
       "      <th>max</th>\n",
       "    </tr>\n",
       "  </thead>\n",
       "  <tbody>\n",
       "    <tr>\n",
       "      <th>car_brand</th>\n",
       "      <td>2287</td>\n",
       "      <td>48</td>\n",
       "      <td>Ford</td>\n",
       "      <td>1146</td>\n",
       "      <td>NaN</td>\n",
       "      <td>NaN</td>\n",
       "      <td>NaN</td>\n",
       "      <td>NaN</td>\n",
       "      <td>NaN</td>\n",
       "      <td>NaN</td>\n",
       "      <td>NaN</td>\n",
       "    </tr>\n",
       "    <tr>\n",
       "      <th>car_model</th>\n",
       "      <td>2287</td>\n",
       "      <td>219</td>\n",
       "      <td>Expedition</td>\n",
       "      <td>272</td>\n",
       "      <td>NaN</td>\n",
       "      <td>NaN</td>\n",
       "      <td>NaN</td>\n",
       "      <td>NaN</td>\n",
       "      <td>NaN</td>\n",
       "      <td>NaN</td>\n",
       "      <td>NaN</td>\n",
       "    </tr>\n",
       "    <tr>\n",
       "      <th>car_driven</th>\n",
       "      <td>2287.0</td>\n",
       "      <td>NaN</td>\n",
       "      <td>NaN</td>\n",
       "      <td>NaN</td>\n",
       "      <td>99620.835155</td>\n",
       "      <td>142545.713568</td>\n",
       "      <td>0.0</td>\n",
       "      <td>18652.0</td>\n",
       "      <td>71188.0</td>\n",
       "      <td>147250.0</td>\n",
       "      <td>4005235.0</td>\n",
       "    </tr>\n",
       "    <tr>\n",
       "      <th>car_transmission</th>\n",
       "      <td>2287</td>\n",
       "      <td>3</td>\n",
       "      <td>Automatic</td>\n",
       "      <td>2076</td>\n",
       "      <td>NaN</td>\n",
       "      <td>NaN</td>\n",
       "      <td>NaN</td>\n",
       "      <td>NaN</td>\n",
       "      <td>NaN</td>\n",
       "      <td>NaN</td>\n",
       "      <td>NaN</td>\n",
       "    </tr>\n",
       "    <tr>\n",
       "      <th>car_model_year</th>\n",
       "      <td>2287.0</td>\n",
       "      <td>NaN</td>\n",
       "      <td>NaN</td>\n",
       "      <td>NaN</td>\n",
       "      <td>2014.229996</td>\n",
       "      <td>3.64471</td>\n",
       "      <td>1979.0</td>\n",
       "      <td>2013.0</td>\n",
       "      <td>2015.0</td>\n",
       "      <td>2017.0</td>\n",
       "      <td>2022.0</td>\n",
       "    </tr>\n",
       "    <tr>\n",
       "      <th>car_price</th>\n",
       "      <td>2287.0</td>\n",
       "      <td>NaN</td>\n",
       "      <td>NaN</td>\n",
       "      <td>NaN</td>\n",
       "      <td>89559.378225</td>\n",
       "      <td>1046339.527206</td>\n",
       "      <td>123.0</td>\n",
       "      <td>26550.0</td>\n",
       "      <td>51999.0</td>\n",
       "      <td>93450.0</td>\n",
       "      <td>50000000.0</td>\n",
       "    </tr>\n",
       "  </tbody>\n",
       "</table>\n",
       "</div>"
      ],
      "text/plain": [
       "                   count unique         top  freq          mean  \\\n",
       "car_brand           2287     48        Ford  1146           NaN   \n",
       "car_model           2287    219  Expedition   272           NaN   \n",
       "car_driven        2287.0    NaN         NaN   NaN  99620.835155   \n",
       "car_transmission    2287      3   Automatic  2076           NaN   \n",
       "car_model_year    2287.0    NaN         NaN   NaN   2014.229996   \n",
       "car_price         2287.0    NaN         NaN   NaN  89559.378225   \n",
       "\n",
       "                             std     min      25%      50%       75%  \\\n",
       "car_brand                    NaN     NaN      NaN      NaN       NaN   \n",
       "car_model                    NaN     NaN      NaN      NaN       NaN   \n",
       "car_driven         142545.713568     0.0  18652.0  71188.0  147250.0   \n",
       "car_transmission             NaN     NaN      NaN      NaN       NaN   \n",
       "car_model_year           3.64471  1979.0   2013.0   2015.0    2017.0   \n",
       "car_price         1046339.527206   123.0  26550.0  51999.0   93450.0   \n",
       "\n",
       "                         max  \n",
       "car_brand                NaN  \n",
       "car_model                NaN  \n",
       "car_driven         4005235.0  \n",
       "car_transmission         NaN  \n",
       "car_model_year        2022.0  \n",
       "car_price         50000000.0  "
      ]
     },
     "execution_count": 9,
     "metadata": {},
     "output_type": "execute_result"
    }
   ],
   "source": [
    "df.describe(include='all').T"
   ]
  },
  {
   "cell_type": "code",
   "execution_count": null,
   "id": "7280ba59-4c3c-4c4b-8c27-645f7ae9e7c0",
   "metadata": {},
   "outputs": [],
   "source": [
    "# The code df.describe(include='all').T generates descriptive statistics for all columns in the DataFrame, including non-numeric data.\n",
    "# The output is transposed (using .T), allowing for easier reading of statistics such as count, unique values, top values, frequency, mean, standard deviation, minimum, maximum, and quartiles.\n",
    "# This summary helps to quickly understand the distribution and characteristics of both numeric and categorical features in the dataset."
   ]
  },
  {
   "cell_type": "markdown",
   "id": "f0a14366-6420-4573-ae9e-1fe96d614892",
   "metadata": {},
   "source": [
    "# Q3) Identify data types: Check and note the data types for each variable."
   ]
  },
  {
   "cell_type": "code",
   "execution_count": 10,
   "id": "93929611-e31f-434e-9c98-71475fd1e007",
   "metadata": {},
   "outputs": [
    {
     "data": {
      "text/plain": [
       "car_brand            object\n",
       "car_model            object\n",
       "car_driven          float64\n",
       "car_transmission     object\n",
       "car_model_year        int64\n",
       "car_price           float64\n",
       "dtype: object"
      ]
     },
     "execution_count": 10,
     "metadata": {},
     "output_type": "execute_result"
    }
   ],
   "source": [
    "# df.dtypes displays the data types of each column in the DataFrame, providing insight into the type of data contained in each feature.\n",
    "\n",
    "df.dtypes"
   ]
  },
  {
   "cell_type": "markdown",
   "id": "ac7b06f0-6dcc-48ee-9576-9c33bd1f1e04",
   "metadata": {},
   "source": [
    "# Q4) Missing entries: Determine the number of missing entries per variable."
   ]
  },
  {
   "cell_type": "code",
   "execution_count": 11,
   "id": "cbd99764-ab49-4e22-ae34-0b3846d5b99b",
   "metadata": {},
   "outputs": [
    {
     "data": {
      "text/plain": [
       "car_brand           0\n",
       "car_model           0\n",
       "car_driven          0\n",
       "car_transmission    0\n",
       "car_model_year      0\n",
       "car_price           0\n",
       "dtype: int64"
      ]
     },
     "execution_count": 11,
     "metadata": {},
     "output_type": "execute_result"
    }
   ],
   "source": [
    "# following code returns the total number of missing values for each column in the DataFrame, helping to identify any data quality issues.\n",
    "df.isna().sum()"
   ]
  },
  {
   "cell_type": "markdown",
   "id": "b0d4e74a-cec4-4f8c-a5de-7bda90b1945d",
   "metadata": {},
   "source": [
    "# Q5) Duplicate records: Identify and count any duplicate records."
   ]
  },
  {
   "cell_type": "code",
   "execution_count": 18,
   "id": "a5b0bc02-e270-4e91-9492-572f476b3d54",
   "metadata": {},
   "outputs": [
    {
     "name": "stdout",
     "output_type": "stream",
     "text": [
      "Duplicate Records:\n",
      "      car_brand car_model  car_driven car_transmission  car_model_year  \\\n",
      "9          Ford  Explorer     49000.0        Automatic            2015   \n",
      "102        Ford      Edge      1682.0        Automatic            2017   \n",
      "174        Ford      Edge    260000.0        Automatic            2007   \n",
      "209      Toyota     Camry      3021.0        Automatic            2018   \n",
      "210      Toyota     Camry      3021.0        Automatic            2018   \n",
      "...         ...       ...         ...              ...             ...   \n",
      "2213        BMW        X5       250.0        Automatic            2011   \n",
      "2214        BMW        X5       250.0        Automatic            2011   \n",
      "2254       Audi        Q5     47000.0        Automatic            2017   \n",
      "2256  Chevrolet     Tahoe     60000.0        Automatic            2016   \n",
      "2265  Chevrolet     Tahoe     60000.0        Automatic            2018   \n",
      "\n",
      "      car_price  \n",
      "9       69000.0  \n",
      "102    134999.0  \n",
      "174     25000.0  \n",
      "209     22000.0  \n",
      "210     22000.0  \n",
      "...         ...  \n",
      "2213    40000.0  \n",
      "2214    40000.0  \n",
      "2254   105000.0  \n",
      "2256   150000.0  \n",
      "2265   135000.0  \n",
      "\n",
      "[1184 rows x 6 columns]\n",
      "\n",
      "Total number of duplicate records: 1184\n"
     ]
    }
   ],
   "source": [
    "duplicates = df[df.duplicated()]  \n",
    "\n",
    "duplicate_count = df.duplicated().sum()\n",
    "\n",
    "print(\"Duplicate Records:\")\n",
    "print(duplicates)\n",
    "\n",
    "print(\"\\nTotal number of duplicate records:\", duplicate_count)"
   ]
  },
  {
   "cell_type": "code",
   "execution_count": null,
   "id": "9d7ea457-9cc1-46a6-a9ec-5024b30c36c7",
   "metadata": {},
   "outputs": [],
   "source": [
    "#The code identifies and displays all duplicate records in the DataFrame, helping to assess data quality and integrity.\n",
    "#It calculates and prints the total number of duplicate records, indicating the extent of redundancy in the dataset."
   ]
  },
  {
   "cell_type": "code",
   "execution_count": 19,
   "id": "17bc954b-e9c4-47e8-9667-b90ef5796f4d",
   "metadata": {},
   "outputs": [],
   "source": [
    "#getting copy of data ( copy by values)\n",
    "original_df=df.copy()"
   ]
  },
  {
   "cell_type": "markdown",
   "id": "fe2fa87c-9e89-4fa9-b1a0-bc6071c53e89",
   "metadata": {},
   "source": [
    "# Q6) Univariate analysis: Conduct this analysis on all variables, creating appropriate visualizations."
   ]
  },
  {
   "cell_type": "code",
   "execution_count": 12,
   "id": "57f688ad-15cd-4cef-a2e8-812805ef0677",
   "metadata": {},
   "outputs": [
    {
     "data": {
      "text/plain": [
       "car_brand\n",
       "Ford             1146\n",
       "Toyota            294\n",
       "Hyundai           156\n",
       "Lincoln           114\n",
       "Kia                92\n",
       "Chevrolet          79\n",
       "Nissan             58\n",
       "Honda              34\n",
       "GMC                31\n",
       "BMW                28\n",
       "Dodge              27\n",
       "Lexus              23\n",
       "Mercedes-Benz      23\n",
       "Renault            21\n",
       "Mazda              17\n",
       "Mitsubishi         17\n",
       "Land               13\n",
       "Jeep               13\n",
       "Audi               13\n",
       "Geely              10\n",
       "Cadillac            7\n",
       "Porsche             7\n",
       "Chrysler            7\n",
       "MG                  7\n",
       "Abarth              6\n",
       "Jaguar              5\n",
       "Volkswagen          4\n",
       "Peugeot             4\n",
       "Suzuki              4\n",
       "Volvo               3\n",
       "Maserati            2\n",
       "Mini                2\n",
       "Subaru              2\n",
       "Mercury             2\n",
       "Changan             2\n",
       "Fiat                2\n",
       "Aston               1\n",
       "GAC                 1\n",
       "Bentley             1\n",
       "BAIC                1\n",
       "Infiniti            1\n",
       "Chery               1\n",
       "Foton               1\n",
       "Isuzu               1\n",
       "Great               1\n",
       "Kenbo               1\n",
       "Citroen             1\n",
       "Haval               1\n",
       "Name: count, dtype: int64"
      ]
     },
     "execution_count": 12,
     "metadata": {},
     "output_type": "execute_result"
    }
   ],
   "source": [
    "# The code calculates the frequency of each car brand in the dataset, providing insights into brand distribution.\n",
    "car_brand_counts = df['car_brand'].value_counts()\n",
    "car_brand_counts "
   ]
  },
  {
   "cell_type": "code",
   "execution_count": 859,
   "id": "9dd01fac-74e1-4c4d-9a34-bfc9755cf627",
   "metadata": {},
   "outputs": [
    {
     "data": {
      "text/plain": [
       "Text(0, 0.5, 'Count')"
      ]
     },
     "execution_count": 859,
     "metadata": {},
     "output_type": "execute_result"
    },
    {
     "data": {
      "image/png": "[encoded data removed]",
      "text/plain": [
       "<Figure size 1000x800 with 1 Axes>"
      ]
     },
     "metadata": {},
     "output_type": "display_data"
    }
   ],
   "source": [
    "plt.figure(figsize=(10,8))\n",
    "car_brand_counts .plot.bar()\n",
    "plt.title('Count of Each Car Brand')\n",
    "plt.xlabel('Car Brand')\n",
    "plt.ylabel('Count')"
   ]
  },
  {
   "cell_type": "code",
   "execution_count": null,
   "id": "d3eed44f-adbd-4869-a0cc-9892f54dee07",
   "metadata": {},
   "outputs": [],
   "source": [
    "# The bar plot displays the frequency of each car brand in the dataset, highlighting the most and least common brands.\n",
    "# It provides a clear visual comparison of the distribution of car brands based on the number of records for each."
   ]
  },
  {
   "cell_type": "code",
   "execution_count": 13,
   "id": "e21fc39c-b53c-4de1-bfb4-9fcefe5e2bdf",
   "metadata": {},
   "outputs": [
    {
     "data": {
      "text/plain": [
       "car_model\n",
       "Expedition    272\n",
       "Edge          226\n",
       "Taurus        170\n",
       "Explorer      105\n",
       "Camry         100\n",
       "             ... \n",
       "Suburban        1\n",
       "Jetta           1\n",
       "Touareg         1\n",
       "Passat          1\n",
       "C-Class         1\n",
       "Name: count, Length: 219, dtype: int64"
      ]
     },
     "execution_count": 13,
     "metadata": {},
     "output_type": "execute_result"
    }
   ],
   "source": [
    "# The code calculates the frequency of each car model in the dataset, providing insights into model distribution.\n",
    "car_model_counts = df['car_model'].value_counts()\n",
    "car_model_counts "
   ]
  },
  {
   "cell_type": "code",
   "execution_count": 797,
   "id": "9dabbbca-b1a1-428b-8ea6-a6db306a5ddc",
   "metadata": {},
   "outputs": [
    {
     "data": {
      "image/png": "[encoded data removed]",
      "text/plain": [
       "<Figure size 1000x600 with 1 Axes>"
      ]
     },
     "metadata": {},
     "output_type": "display_data"
    }
   ],
   "source": [
    "df = pd.read_csv('used_car_cleaned.csv')\n",
    "\n",
    "car_model_counts = df['car_model'].value_counts()\n",
    "\n",
    "plt.figure(figsize=(10, 6))\n",
    "car_model_counts.plot(kind='bar', color='skyblue')  \n",
    "plt.title('Count of Each Car Model', fontsize=16, fontweight='bold')\n",
    "plt.xlabel('Car Model', fontsize=14, fontweight='bold')\n",
    "plt.ylabel('Count', fontsize=14, fontweight='bold')\n",
    "plt.xticks(rotation=90, ha='right', fontsize=12)  \n",
    "\n",
    "plt.tight_layout()\n",
    "plt.show()"
   ]
  },
  {
   "cell_type": "code",
   "execution_count": 791,
   "id": "a7183631-59e7-4c09-b98a-0f39134b2b19",
   "metadata": {},
   "outputs": [],
   "source": [
    "# plt.style.use('default')  # Reset to default style\n"
   ]
  },
  {
   "cell_type": "code",
   "execution_count": 159,
   "id": "5991e940-2cbb-4e4b-bd1f-c03a618e3ac5",
   "metadata": {},
   "outputs": [
    {
     "data": {
      "text/plain": [
       "car_driven\n",
       "300000.0    28\n",
       "200000.0    28\n",
       "71188.0     21\n",
       "28000.0     20\n",
       "180000.0    16\n",
       "            ..\n",
       "92700.0      1\n",
       "88500.0      1\n",
       "402050.0     1\n",
       "251000.0     1\n",
       "33000.0      1\n",
       "Name: count, Length: 553, dtype: int64"
      ]
     },
     "execution_count": 159,
     "metadata": {},
     "output_type": "execute_result"
    }
   ],
   "source": [
    "# # The code calculates the frequency of each car driven in the dataset, providing insights into driven distribution.\n",
    "car_driven_counts = df['car_driven'].value_counts()\n",
    "car_driven_counts "
   ]
  },
  {
   "cell_type": "code",
   "execution_count": 795,
   "id": "a3079392-137f-4a6c-8382-cf643ad2bc7c",
   "metadata": {},
   "outputs": [
    {
     "data": {
      "image/png": "[encoded data removed]",
      "text/plain": [
       "<Figure size 800x600 with 1 Axes>"
      ]
     },
     "metadata": {},
     "output_type": "display_data"
    }
   ],
   "source": [
    "plt.figure(figsize=(8,6))\n",
    "plt.boxplot(df.car_driven)\n",
    "plt.ylabel('car_driven')\n",
    "plt.title('Box Plot of car_driven')\n",
    "plt.show()"
   ]
  },
  {
   "cell_type": "code",
   "execution_count": null,
   "id": "f2bd466c-de54-4fbd-bad5-2fdd7f094c03",
   "metadata": {},
   "outputs": [],
   "source": [
    "# The box plot shows the distribution of the variable 'car_driven', highlighting the spread, median, and potential outliers.\n",
    "# It provides insights into how far cars in the dataset have been driven, along with any extreme values."
   ]
  },
  {
   "cell_type": "code",
   "execution_count": 161,
   "id": "1a513c41-cebe-4c28-b124-15144bc22d38",
   "metadata": {},
   "outputs": [
    {
     "data": {
      "text/plain": [
       "car_transmission\n",
       "Automatic    2076\n",
       "Manual        137\n",
       "CVT            74\n",
       "Name: count, dtype: int64"
      ]
     },
     "execution_count": 161,
     "metadata": {},
     "output_type": "execute_result"
    }
   ],
   "source": [
    "# The code calculates the frequency of each car transmission in the dataset, providing insights into transmission distribution.\n",
    "car_transmission_counts = df['car_transmission'].value_counts()\n",
    "car_transmission_counts "
   ]
  },
  {
   "cell_type": "code",
   "execution_count": 597,
   "id": "a2207b94-c97a-491f-92c2-a1a8f24e70fa",
   "metadata": {},
   "outputs": [
    {
     "data": {
      "image/png": "[encoded data removed]",
      "text/plain": [
       "<Figure size 800x600 with 1 Axes>"
      ]
     },
     "metadata": {},
     "output_type": "display_data"
    }
   ],
   "source": [
    "plt.figure(figsize=(8, 6))\n",
    "car_transmission_counts.plot.pie(autopct='%1.1f%%', startangle=90)\n",
    "plt.title('Car Transmission Distribution') \n",
    "plt.show()"
   ]
  },
  {
   "cell_type": "code",
   "execution_count": null,
   "id": "fae01284-7d5c-4d1f-9f68-d5616af061b5",
   "metadata": {},
   "outputs": [],
   "source": [
    "# The pie chart visualizes the percentage distribution of different car transmission types in the dataset.\n",
    "# It provides a clear breakdown of how various transmission types are represented, with percentages labeled for each category."
   ]
  },
  {
   "cell_type": "code",
   "execution_count": 466,
   "id": "5e26917f-1fdc-4298-8ca4-b524f8fe4c22",
   "metadata": {},
   "outputs": [
    {
     "data": {
      "text/plain": [
       "car_model_year\n",
       "2017    446\n",
       "2016    418\n",
       "2015    302\n",
       "2013    251\n",
       "2014    194\n",
       "2012    184\n",
       "2011     68\n",
       "2018     66\n",
       "2019     53\n",
       "2008     45\n",
       "2010     43\n",
       "2007     41\n",
       "2020     40\n",
       "2009     35\n",
       "2006     29\n",
       "2005     24\n",
       "2002     10\n",
       "2004      9\n",
       "1996      6\n",
       "2021      6\n",
       "2003      4\n",
       "1999      3\n",
       "1992      2\n",
       "2022      1\n",
       "1986      1\n",
       "1998      1\n",
       "1994      1\n",
       "2000      1\n",
       "1979      1\n",
       "2001      1\n",
       "1997      1\n",
       "Name: count, dtype: int64"
      ]
     },
     "execution_count": 466,
     "metadata": {},
     "output_type": "execute_result"
    }
   ],
   "source": [
    "# The code calculates the frequency of each car model year in the dataset, providing insights into model year distribution.\n",
    "car_model_year_counts = df['car_model_year'].value_counts()\n",
    "car_model_year_counts "
   ]
  },
  {
   "cell_type": "code",
   "execution_count": 164,
   "id": "7469f4db-50d9-4375-bee3-8ad869d3de34",
   "metadata": {},
   "outputs": [
    {
     "data": {
      "image/png": "[encoded data removed]",
      "text/plain": [
       "<Figure size 800x600 with 1 Axes>"
      ]
     },
     "metadata": {},
     "output_type": "display_data"
    }
   ],
   "source": [
    "plt.figure(figsize=(8,6))\n",
    "plt.boxplot(df.car_model_year)\n",
    "plt.ylabel('car_model_year')\n",
    "plt.title('Box Plot of car_model_year')\n",
    "plt.show()"
   ]
  },
  {
   "cell_type": "code",
   "execution_count": null,
   "id": "e0b4064f-34c7-434e-aa48-fb682e0ffb1e",
   "metadata": {},
   "outputs": [],
   "source": [
    "# The box plot shows the distribution of car model years, identifying the range and any possible outliers.\n",
    "# It highlights the central values and spread of the car model years within the dataset."
   ]
  },
  {
   "cell_type": "code",
   "execution_count": 165,
   "id": "25e06fc5-b25e-4887-a0aa-e7fd86a8b0a3",
   "metadata": {},
   "outputs": [
    {
     "data": {
      "text/plain": [
       "car_price\n",
       "20999.0     82\n",
       "134999.0    59\n",
       "54999.0     57\n",
       "52500.0     55\n",
       "45000.0     49\n",
       "            ..\n",
       "27500.0      1\n",
       "47000.0      1\n",
       "78000.0      1\n",
       "123.0        1\n",
       "103000.0     1\n",
       "Name: count, Length: 262, dtype: int64"
      ]
     },
     "execution_count": 165,
     "metadata": {},
     "output_type": "execute_result"
    }
   ],
   "source": [
    "# The code calculates the frequency of each car price in the dataset, providing insights into price distribution.\n",
    "car_price_year_counts = df['car_price'].value_counts()\n",
    "car_price_year_counts "
   ]
  },
  {
   "cell_type": "code",
   "execution_count": 743,
   "id": "b97c48c2-eddd-406e-8412-d3238f700e9e",
   "metadata": {},
   "outputs": [
    {
     "data": {
      "image/png": "[encoded data removed]",
      "text/plain": [
       "<Figure size 800x600 with 1 Axes>"
      ]
     },
     "metadata": {},
     "output_type": "display_data"
    }
   ],
   "source": [
    "plt.figure(figsize=(8, 6))\n",
    "plt.boxplot(df['car_price'])\n",
    "plt.ylabel('Car Price')\n",
    "plt.title('Box Plot of Car Price')\n",
    "plt.show()"
   ]
  },
  {
   "cell_type": "code",
   "execution_count": null,
   "id": "40900f18-7616-4ce2-b2e3-245bc0a91b7d",
   "metadata": {},
   "outputs": [],
   "source": [
    "# The box plot visualizes the distribution of car prices, highlighting potential outliers.\n",
    "# It provides a clear view of the spread and central tendency of car prices in the dataset."
   ]
  },
  {
   "cell_type": "markdown",
   "id": "eba5b83b-65ca-4780-a6ed-75971e256f04",
   "metadata": {},
   "source": [
    "# Q7) Outlier detection: Use the Tukey method to identify outliers."
   ]
  },
  {
   "cell_type": "code",
   "execution_count": 20,
   "id": "cf3d8a7d-b002-4bea-a02f-f787aaf5ae33",
   "metadata": {},
   "outputs": [
    {
     "name": "stdout",
     "output_type": "stream",
     "text": [
      "Outliers detected:\n",
      "          car_brand car_model  car_driven car_transmission  car_model_year  \\\n",
      "13           Toyota     Camry    410000.0        Automatic            2006   \n",
      "15            Dodge   Charger    389000.0        Automatic            2008   \n",
      "18              Kia    Cerato   1640000.0        Automatic            2012   \n",
      "152         Hyundai   Elantra    370000.0        Automatic            2012   \n",
      "154          Toyota   Corolla    400000.0              CVT            2016   \n",
      "345          Toyota     Camry    755000.0        Automatic            2018   \n",
      "350            Ford  Explorer    360000.0        Automatic            2010   \n",
      "361         Hyundai    Accent    380000.0        Automatic            2014   \n",
      "379            Ford      Edge    349970.0        Automatic            2009   \n",
      "391       Chevrolet   Express    341039.0        Automatic            2011   \n",
      "394         Hyundai     Azera    360000.0        Automatic            2008   \n",
      "588         Hyundai    Sonata    625000.0        Automatic            2006   \n",
      "619          Toyota   Corolla    440000.0        Automatic            2005   \n",
      "908          Nissan     Sunny    395000.0        Automatic            2005   \n",
      "1055         Toyota  Fortuner    360000.0        Automatic            2009   \n",
      "1058          Honda     Civic    370000.0        Automatic            2007   \n",
      "1098         Toyota     Camry    380000.0        Automatic            2014   \n",
      "1125         Suzuki     Swift   2680000.0        Automatic            2007   \n",
      "1261        Hyundai   Elantra    398263.0        Automatic            2007   \n",
      "1267         Toyota     Hilux    402050.0           Manual            2002   \n",
      "1397         Toyota   Corolla    400000.0              CVT            2005   \n",
      "1443         Toyota     Camry    426000.0           Manual            2007   \n",
      "1638        Hyundai    Accent    350000.0           Manual            2009   \n",
      "1640         Toyota     Camry    692000.0           Manual            1998   \n",
      "1641        Hyundai   Elantra    499999.0           Manual            2007   \n",
      "1648         Toyota     Camry    350000.0           Manual            2004   \n",
      "1651      Chevrolet    Lumina    380000.0        Automatic            2006   \n",
      "1654            Kia    Opirus    345000.0        Automatic            2008   \n",
      "1667         Abarth       124    600000.0           Manual            1992   \n",
      "1670  Mercedes-Benz   S-Class    500000.0        Automatic            1994   \n",
      "1672         Toyota     Camry    540000.0        Automatic            2007   \n",
      "1747        Hyundai   Elantra    550000.0           Manual            2010   \n",
      "1748         Toyota    Previa    484000.0        Automatic            2004   \n",
      "1783           Ford  Explorer    364000.0        Automatic            2009   \n",
      "1833        Hyundai   Elantra    569800.0           Manual            2010   \n",
      "1834          Honda    Accord    558000.0              CVT            2011   \n",
      "1835            Kia   Cadenza    341000.0        Automatic            2012   \n",
      "1878     Mitsubishi      L200    365000.0           Manual            2003   \n",
      "2035      Chevrolet    Lumina    342000.0        Automatic            2001   \n",
      "2072         Toyota     Camry    371000.0        Automatic            2012   \n",
      "2073         Toyota     Camry    371000.0        Automatic            2012   \n",
      "2080         Toyota    Innova    398626.0           Manual            2011   \n",
      "2087         Toyota     Camry    445000.0           Manual            2007   \n",
      "2101        Hyundai   Elantra    650000.0              CVT            2010   \n",
      "2126      Chevrolet    Blazer    400000.0        Automatic            2005   \n",
      "2148     Mitsubishi   Grandis    500000.0           Manual            2005   \n",
      "2159         Nissan    Maxima    376000.0        Automatic            2002   \n",
      "2177          Honda    Accord   4005235.0        Automatic            2002   \n",
      "2207          Honda    Accord    353000.0              CVT            2006   \n",
      "2209            GMC     Envoy    400000.0        Automatic            2005   \n",
      "2211         Toyota     Camry    617000.0           Manual            1999   \n",
      "2216         Toyota     Camry    617000.0           Manual            1999   \n",
      "2222         Toyota   Corolla    700000.0              CVT            2002   \n",
      "2244  Mercedes-Benz      E320    600000.0        Automatic            1996   \n",
      "\n",
      "      car_price  \n",
      "13      10000.0  \n",
      "15      15500.0  \n",
      "18      33000.0  \n",
      "152     22000.0  \n",
      "154     30000.0  \n",
      "345     62500.0  \n",
      "350     11000.0  \n",
      "361     17000.0  \n",
      "379     20500.0  \n",
      "391     40000.0  \n",
      "394     20000.0  \n",
      "588     15000.0  \n",
      "619     14000.0  \n",
      "908     12000.0  \n",
      "1055    31500.0  \n",
      "1058    12500.0  \n",
      "1098    27000.0  \n",
      "1125    14500.0  \n",
      "1261    10000.0  \n",
      "1267    20000.0  \n",
      "1397    13000.0  \n",
      "1443    14000.0  \n",
      "1638    10000.0  \n",
      "1640     7000.0  \n",
      "1641    10500.0  \n",
      "1648    10000.0  \n",
      "1651     6500.0  \n",
      "1654     8500.0  \n",
      "1667     5000.0  \n",
      "1670     2500.0  \n",
      "1672    14000.0  \n",
      "1747    10000.0  \n",
      "1748    15000.0  \n",
      "1783    22000.0  \n",
      "1833     8000.0  \n",
      "1834    40000.0  \n",
      "1835    30000.0  \n",
      "1878    17000.0  \n",
      "2035     7000.0  \n",
      "2072    30000.0  \n",
      "2073    35000.0  \n",
      "2080    23000.0  \n",
      "2087    15000.0  \n",
      "2101     9000.0  \n",
      "2126    13000.0  \n",
      "2148    12000.0  \n",
      "2159    11000.0  \n",
      "2177     6000.0  \n",
      "2207    19000.0  \n",
      "2209    12000.0  \n",
      "2211    17000.0  \n",
      "2216    15000.0  \n",
      "2222     8500.0  \n",
      "2244    10000.0  \n",
      "\n",
      "Number of outliers detected: 54\n"
     ]
    }
   ],
   "source": [
    "Q1 = df['car_driven'].quantile(0.25)\n",
    "Q3 = df['car_driven'].quantile(0.75)\n",
    "\n",
    "IQR = Q3 - Q1\n",
    "\n",
    "lower_bound = Q1 - 1.5 * IQR\n",
    "upper_bound = Q3 + 1.5 * IQR\n",
    "\n",
    "outliers = df[(df['car_driven'] < lower_bound) | (df['car_driven'] > upper_bound)]\n",
    "\n",
    "print(\"Outliers detected:\")\n",
    "print(outliers)\n",
    "\n",
    "print(f\"\\nNumber of outliers detected: {outliers.shape[0]}\")"
   ]
  },
  {
   "cell_type": "code",
   "execution_count": null,
   "id": "13218078-22ef-475e-bf8c-bd47b5132181",
   "metadata": {},
   "outputs": [],
   "source": [
    "# The interquartile range (IQR) method is used to detect outliers in the 'car_driven' column.\n",
    "# Outliers are defined as values that fall below the lower bound or above the upper bound calculated using the IQR.\n",
    "# The total number of detected outliers is printed, helping to identify extreme values in the 'car_driven' feature."
   ]
  },
  {
   "cell_type": "code",
   "execution_count": 21,
   "id": "30b72015-1925-4c58-b869-32a5384b0e0f",
   "metadata": {},
   "outputs": [
    {
     "name": "stdout",
     "output_type": "stream",
     "text": [
      "Outliers detected:\n",
      "          car_brand car_model  car_driven car_transmission  car_model_year  \\\n",
      "13           Toyota     Camry    410000.0        Automatic            2006   \n",
      "150          Toyota     Hilux    185000.0           Manual            2003   \n",
      "333         Hyundai    Accent    150000.0        Automatic            2005   \n",
      "374         Hyundai     Santa    290000.0        Automatic            2003   \n",
      "384   Mercedes-Benz   S-Class    300000.0        Automatic            2005   \n",
      "...             ...       ...         ...              ...             ...   \n",
      "2222         Toyota   Corolla    700000.0              CVT            2002   \n",
      "2229           Land     Rover    250000.0        Automatic            2004   \n",
      "2234         Toyota      Land       368.0           Manual            2006   \n",
      "2244  Mercedes-Benz      E320    600000.0        Automatic            1996   \n",
      "2260            GMC     Yukon     20000.0        Automatic            1997   \n",
      "\n",
      "      car_price  \n",
      "13      10000.0  \n",
      "150     37000.0  \n",
      "333     10000.0  \n",
      "374     10500.0  \n",
      "384     12500.0  \n",
      "...         ...  \n",
      "2222     8500.0  \n",
      "2229    23000.0  \n",
      "2234    55000.0  \n",
      "2244    10000.0  \n",
      "2260    45000.0  \n",
      "\n",
      "[94 rows x 6 columns]\n",
      "\n",
      "Number of outliers detected: 94\n"
     ]
    }
   ],
   "source": [
    "Q1 = df['car_model_year'].quantile(0.25)\n",
    "Q3 = df['car_model_year'].quantile(0.75)\n",
    "\n",
    "IQR = Q3 - Q1\n",
    "\n",
    "lower_bound = Q1 - 1.5 * IQR\n",
    "upper_bound = Q3 + 1.5 * IQR\n",
    "\n",
    "outliers = df[(df['car_model_year'] < lower_bound) | (df['car_model_year'] > upper_bound)]\n",
    "\n",
    "print(\"Outliers detected:\")\n",
    "print(outliers)\n",
    "\n",
    "print(f\"\\nNumber of outliers detected: {outliers.shape[0]}\")"
   ]
  },
  {
   "cell_type": "code",
   "execution_count": 22,
   "id": "baf3e8bf-99da-406a-b127-7c2e8e42c16d",
   "metadata": {},
   "outputs": [],
   "source": [
    "# The IQR method is applied to detect outliers in the 'car_model_year' column.\n",
    "# Outliers are values that fall outside the range defined by the lower and upper bounds based on the IQR.\n",
    "# The number of detected outliers in 'car_model_year' is displayed to identify any unusual data points."
   ]
  },
  {
   "cell_type": "code",
   "execution_count": 15,
   "id": "b101ea3c-423d-4e08-8c28-3b82ebafb944",
   "metadata": {},
   "outputs": [
    {
     "name": "stdout",
     "output_type": "stream",
     "text": [
      "Outliers detected:\n",
      "          car_brand    car_model  car_driven car_transmission  car_model_year  \\\n",
      "43          Lincoln  Continental       105.0        Automatic            2017   \n",
      "48             Ford       Raptor       644.0        Automatic            2017   \n",
      "79          Lincoln  Continental       680.0        Automatic            2017   \n",
      "80          Lincoln  Continental     10300.0        Automatic            2017   \n",
      "234         Lincoln  Continental       105.0        Automatic            2017   \n",
      "261         Lincoln  Continental     10300.0        Automatic            2017   \n",
      "262         Lincoln  Continental       680.0        Automatic            2017   \n",
      "362            Land        Rover    158500.0        Automatic            2015   \n",
      "393             BMW           i8        30.0        Automatic            2018   \n",
      "422         Lincoln  Continental       105.0        Automatic            2017   \n",
      "454         Lincoln  Continental       680.0        Automatic            2017   \n",
      "455         Lincoln  Continental     10300.0        Automatic            2017   \n",
      "540   Mercedes-Benz      E-Class      2400.0        Automatic            2019   \n",
      "659         Lincoln  Continental       105.0        Automatic            2017   \n",
      "688         Lincoln  Continental     10300.0        Automatic            2017   \n",
      "689         Lincoln  Continental       680.0        Automatic            2017   \n",
      "781   Mercedes-Benz          GLS     35000.0        Automatic            2017   \n",
      "807         Lincoln  Continental       105.0        Automatic            2017   \n",
      "835         Lincoln  Continental     10300.0        Automatic            2017   \n",
      "838         Lincoln  Continental       680.0        Automatic            2017   \n",
      "935         Lincoln  Continental       105.0        Automatic            2017   \n",
      "965         Lincoln  Continental       680.0        Automatic            2017   \n",
      "966         Lincoln  Continental     10300.0        Automatic            2017   \n",
      "1148        Lincoln  Continental       105.0        Automatic            2017   \n",
      "1177        Lincoln  Continental     10300.0        Automatic            2017   \n",
      "1178        Lincoln  Continental       680.0        Automatic            2017   \n",
      "1299        Lincoln  Continental       105.0        Automatic            2017   \n",
      "1328        Lincoln  Continental     10300.0        Automatic            2017   \n",
      "1329        Lincoln  Continental       680.0        Automatic            2017   \n",
      "1471        Lincoln  Continental       105.0        Automatic            2017   \n",
      "1499        Lincoln  Continental       680.0        Automatic            2017   \n",
      "1500        Lincoln  Continental     10300.0        Automatic            2017   \n",
      "1693        Lincoln  Continental       105.0        Automatic            2017   \n",
      "1712        Lincoln  Continental     10300.0        Automatic            2017   \n",
      "1713        Lincoln  Continental       680.0        Automatic            2017   \n",
      "1777         Toyota         Land      8000.0        Automatic            2020   \n",
      "1800         Nissan        ZX300    150000.0           Manual            2002   \n",
      "1802           Audi           A4        12.0        Automatic            2015   \n",
      "1831         Toyota         Land     75000.0        Automatic            2016   \n",
      "1865      Chevrolet        Tahoe     17000.0        Automatic            2015   \n",
      "1897  Mercedes-Benz      S-Class     89000.0        Automatic            2016   \n",
      "1959        Lincoln  Continental       680.0        Automatic            2017   \n",
      "1960        Lincoln  Continental     10300.0        Automatic            2017   \n",
      "1988           Ford       Raptor       644.0        Automatic            2017   \n",
      "1996        Lincoln  Continental       105.0        Automatic            2017   \n",
      "2062          Lexus           LX      1092.0        Automatic            2016   \n",
      "2076         Jaguar       F-Pace     18000.0        Automatic            2020   \n",
      "2077         Jaguar       F-Pace     18000.0        Automatic            2020   \n",
      "2085          Lexus           LX     59000.0        Automatic            2017   \n",
      "2105          Aston       Martin     35000.0        Automatic            2013   \n",
      "2112          Lexus           LX         0.0        Automatic            2020   \n",
      "2115        Bentley     Bentayga      5000.0        Automatic            2019   \n",
      "2125  Mercedes-Benz      S-Class     34000.0        Automatic            2017   \n",
      "2151        Hyundai       Tucson     40900.0        Automatic            2017   \n",
      "2175  Mercedes-Benz        ML500     80000.0        Automatic            2015   \n",
      "2267  Mercedes-Benz      S-Class    135000.0        Automatic            2015   \n",
      "2268           Land        Rover    131000.0        Automatic            2015   \n",
      "2274           Land        Rover     37000.0        Automatic            2017   \n",
      "\n",
      "       car_price  \n",
      "43      235999.0  \n",
      "48      299999.0  \n",
      "79      284999.0  \n",
      "80      259999.0  \n",
      "234     235999.0  \n",
      "261     259999.0  \n",
      "262     284999.0  \n",
      "362     220000.0  \n",
      "393     300000.0  \n",
      "422     235999.0  \n",
      "454     284999.0  \n",
      "455     259999.0  \n",
      "540     325000.0  \n",
      "659     235999.0  \n",
      "688     259999.0  \n",
      "689     284999.0  \n",
      "781     210000.0  \n",
      "807     235999.0  \n",
      "835     259999.0  \n",
      "838     284999.0  \n",
      "935     235999.0  \n",
      "965     284999.0  \n",
      "966     259999.0  \n",
      "1148    235999.0  \n",
      "1177    259999.0  \n",
      "1178    284999.0  \n",
      "1299    235999.0  \n",
      "1328    259999.0  \n",
      "1329    284999.0  \n",
      "1471    235999.0  \n",
      "1499    284999.0  \n",
      "1500    259999.0  \n",
      "1693    235999.0  \n",
      "1712    259999.0  \n",
      "1713    284999.0  \n",
      "1777    225000.0  \n",
      "1800    750000.0  \n",
      "1802  50000000.0  \n",
      "1831   1000000.0  \n",
      "1865    550000.0  \n",
      "1897    199000.0  \n",
      "1959    284999.0  \n",
      "1960    259999.0  \n",
      "1988    299999.0  \n",
      "1996    235999.0  \n",
      "2062   1450000.0  \n",
      "2076    210000.0  \n",
      "2077    210000.0  \n",
      "2085    335000.0  \n",
      "2105    200000.0  \n",
      "2112    600000.0  \n",
      "2115    700000.0  \n",
      "2125    225000.0  \n",
      "2151    700000.0  \n",
      "2175    220000.0  \n",
      "2267    240000.0  \n",
      "2268    200000.0  \n",
      "2274    350000.0  \n",
      "\n",
      "Number of outliers detected: 58\n"
     ]
    }
   ],
   "source": [
    "Q1 = df['car_price'].quantile(0.25)\n",
    "Q3 = df['car_price'].quantile(0.75)\n",
    "\n",
    "IQR = Q3 - Q1\n",
    "\n",
    "lower_bound = Q1 - 1.5 * IQR\n",
    "upper_bound = Q3 + 1.5 * IQR\n",
    "\n",
    "outliers = df[(df['car_price'] < lower_bound) | (df['car_price'] > upper_bound)]\n",
    "\n",
    "print(\"Outliers detected:\")\n",
    "print(outliers)\n",
    "\n",
    "print(f\"\\nNumber of outliers detected: {outliers.shape[0]}\")\n"
   ]
  },
  {
   "cell_type": "code",
   "execution_count": null,
   "id": "6ad3038d-eb21-4acd-8de3-0dc163a853fc",
   "metadata": {},
   "outputs": [],
   "source": [
    "# The IQR method is used to detect outliers in the 'car_price' column.\n",
    "# Values outside the lower and upper bounds (calculated using 1.5 times the IQR) are considered outliers.\n",
    "# The total number of outliers in 'car_price' is printed for analysis of extreme pricing data points."
   ]
  },
  {
   "cell_type": "markdown",
   "id": "26d3995a-082b-4fd3-9cf1-7556c5c4a7d7",
   "metadata": {},
   "source": [
    "# \"Since we have almost 4% or fewer outliers in the car_driven, car_model_year, and car_price columns, we will ignore those outliers.\""
   ]
  },
  {
   "cell_type": "markdown",
   "id": "665ff6ca-bb65-4cd1-a761-821491b924df",
   "metadata": {},
   "source": [
    "# //Bivariate analysis// "
   ]
  },
  {
   "cell_type": "markdown",
   "id": "9342ca6e-79c6-4807-9a28-f77fb64d2569",
   "metadata": {},
   "source": [
    "# Q8.1) Chi-square test to assess independence between two categorical variables."
   ]
  },
  {
   "cell_type": "markdown",
   "id": "75854692-e2eb-4ab5-b306-2d59222e3270",
   "metadata": {},
   "source": [
    "# Null Hypothesis (H₀): \"There is no relationship between two categorical variables.\""
   ]
  },
  {
   "cell_type": "code",
   "execution_count": 151,
   "id": "47a850c2-dc5e-4a37-833d-68db89191e70",
   "metadata": {},
   "outputs": [],
   "source": [
    "def chi_square(df,c1,c2):\n",
    "    chi_2, p_val, dof, exp_val = chi2_contingency(pd.crosstab(df[c1],df[c2],margins = False))\n",
    "    print(\"Actual values:\\n\")\n",
    "    print(pd.crosstab(df[c1],df[c2],margins = True))\n",
    "    print(\"=\"*100)\n",
    "    print(\"Expected values: \\n\")\n",
    "    print(exp_val)\n",
    "    print(\"=\"*100)\n",
    "    print(f'\\nChi-square is : {chi_2}', f'\\n\\np_value is : {p_val}', f'\\n\\ndegree of freedom is :{dof}')\n",
    "    print(\"=\"*100)\n",
    "    if p_val < 0.05:\n",
    "        print(F\"\\nThere is statistically significant correlation between {c1} and {c2} at 0.05 significant level\")\n",
    "    else:\n",
    "        print(F\"\\nThere is no correlation between the two variables( we don't have enough evidence to conclude there is a statistically significant relationship between \\n{c1} and {c2}\")   "
   ]
  },
  {
   "cell_type": "code",
   "execution_count": 152,
   "id": "f64a0c83-454e-4352-a5cb-0ed6da19ba87",
   "metadata": {},
   "outputs": [
    {
     "name": "stdout",
     "output_type": "stream",
     "text": [
      "Actual values:\n",
      "\n",
      "car_model      124  2  200  3  300/350/380  300C  307  4th  5  500  ...  XC70  \\\n",
      "car_brand                                                           ...         \n",
      "Abarth           3  0    0  0            0     0    0    0  0    0  ...     0   \n",
      "Aston            0  0    0  0            0     0    0    0  0    0  ...     0   \n",
      "Audi             0  0    0  0            0     0    0    0  0    0  ...     0   \n",
      "BAIC             0  0    0  0            0     0    0    0  0    0  ...     0   \n",
      "BMW              0  0    0  2            0     0    0    0  8    0  ...     0   \n",
      "Bentley          0  0    0  0            0     0    0    0  0    0  ...     0   \n",
      "Cadillac         0  0    0  0            0     0    0    0  0    0  ...     0   \n",
      "Changan          0  0    0  0            0     0    0    0  0    0  ...     0   \n",
      "Chery            0  0    0  0            0     0    0    0  0    0  ...     0   \n",
      "Chevrolet        0  0    0  0            0     0    0    0  0    0  ...     0   \n",
      "Chrysler         0  0    1  0            0     5    0    0  0    0  ...     0   \n",
      "Citroen          0  0    0  0            0     0    0    0  0    0  ...     0   \n",
      "Dodge            0  0    0  0            0     0    0    0  0    0  ...     0   \n",
      "Fiat             0  0    0  0            0     0    0    0  0    2  ...     0   \n",
      "Ford             0  0    0  0            0     0    0    0  0    0  ...     0   \n",
      "Foton            0  0    0  0            0     0    0    0  0    0  ...     0   \n",
      "GAC              0  0    0  0            0     0    0    0  0    0  ...     0   \n",
      "GMC              0  0    0  0            0     0    0    0  0    0  ...     0   \n",
      "Geely            0  0    0  0            0     0    0    0  0    0  ...     0   \n",
      "Great            0  0    0  0            0     0    0    0  0    0  ...     0   \n",
      "Haval            0  0    0  0            0     0    0    0  0    0  ...     0   \n",
      "Honda            0  0    0  0            0     0    0    0  0    0  ...     0   \n",
      "Hyundai          0  0    0  0            0     0    0    0  0    0  ...     0   \n",
      "Infiniti         0  0    0  0            0     0    0    0  0    0  ...     0   \n",
      "Isuzu            0  0    0  0            0     0    0    0  0    0  ...     0   \n",
      "Jaguar           0  0    0  0            0     0    0    0  0    0  ...     0   \n",
      "Jeep             0  0    0  0            0     0    0    0  0    0  ...     0   \n",
      "Kenbo            0  0    0  0            0     0    0    0  0    0  ...     0   \n",
      "Kia              0  0    0  0            0     0    0    0  0    0  ...     0   \n",
      "Land             0  0    0  0            0     0    0    0  0    0  ...     0   \n",
      "Lexus            0  0    0  0            0     0    0    0  0    0  ...     0   \n",
      "Lincoln          0  0    0  0            0     0    0    0  0    0  ...     0   \n",
      "MG               0  0    0  3            0     0    0    0  0    0  ...     0   \n",
      "Maserati         0  0    0  0            0     0    0    0  0    0  ...     0   \n",
      "Mazda            0  1    0  2            0     0    0    0  0    0  ...     0   \n",
      "Mercedes-Benz    0  0    0  0            1     0    0    0  0    0  ...     0   \n",
      "Mercury          0  0    0  0            0     0    0    0  0    0  ...     0   \n",
      "Mini             0  0    0  0            0     0    0    0  0    0  ...     0   \n",
      "Mitsubishi       0  0    0  0            0     0    0    2  0    0  ...     0   \n",
      "Nissan           0  0    0  0            0     0    0    0  0    0  ...     0   \n",
      "Peugeot          0  0    0  0            0     0    1    0  0    0  ...     0   \n",
      "Porsche          0  0    0  0            0     0    0    0  0    0  ...     0   \n",
      "Renault          0  0    0  0            0     0    0    0  0    0  ...     0   \n",
      "Subaru           0  0    0  0            0     0    0    0  0    0  ...     0   \n",
      "Suzuki           0  0    0  0            0     0    0    0  0    0  ...     0   \n",
      "Toyota           0  0    0  0            0     0    0    0  0    0  ...     0   \n",
      "Volkswagen       0  0    0  0            0     0    0    0  0    0  ...     0   \n",
      "Volvo            0  0    0  0            0     0    0    0  0    0  ...     1   \n",
      "All              3  1    1  7            1     5    1    2  8    2  ...     1   \n",
      "\n",
      "car_model      XF  Xterra  Yaris  Yukon  ZX300  i10  i30  i8   All  \n",
      "car_brand                                                           \n",
      "Abarth          0       0      0      0      0    0    0   0     6  \n",
      "Aston           0       0      0      0      0    0    0   0     1  \n",
      "Audi            0       0      0      0      0    0    0   0    13  \n",
      "BAIC            0       0      0      0      0    0    0   0     1  \n",
      "BMW             0       0      0      0      0    0    0   1    28  \n",
      "Bentley         0       0      0      0      0    0    0   0     1  \n",
      "Cadillac        0       0      0      0      0    0    0   0     7  \n",
      "Changan         0       0      0      0      0    0    0   0     2  \n",
      "Chery           0       0      0      0      0    0    0   0     1  \n",
      "Chevrolet       0       0      0      0      0    0    0   0    79  \n",
      "Chrysler        0       0      0      0      0    0    0   0     7  \n",
      "Citroen         0       0      0      0      0    0    0   0     1  \n",
      "Dodge           0       0      0      0      0    0    0   0    27  \n",
      "Fiat            0       0      0      0      0    0    0   0     2  \n",
      "Ford            0       0      0      0      0    0    0   0  1146  \n",
      "Foton           0       0      0      0      0    0    0   0     1  \n",
      "GAC             0       0      0      0      0    0    0   0     1  \n",
      "GMC             0       0      0     14      0    0    0   0    31  \n",
      "Geely           0       0      0      0      0    0    0   0    10  \n",
      "Great           0       0      0      0      0    0    0   0     1  \n",
      "Haval           0       0      0      0      0    0    0   0     1  \n",
      "Honda           0       0      0      0      0    0    0   0    34  \n",
      "Hyundai         0       0      0      0      0    1    2   0   156  \n",
      "Infiniti        0       0      0      0      0    0    0   0     1  \n",
      "Isuzu           0       0      0      0      0    0    0   0     1  \n",
      "Jaguar          3       0      0      0      0    0    0   0     5  \n",
      "Jeep            0       0      0      0      0    0    0   0    13  \n",
      "Kenbo           0       0      0      0      0    0    0   0     1  \n",
      "Kia             0       0      0      0      0    0    0   0    92  \n",
      "Land            0       0      0      0      0    0    0   0    13  \n",
      "Lexus           0       0      0      0      0    0    0   0    23  \n",
      "Lincoln         0       0      0      0      0    0    0   0   114  \n",
      "MG              0       0      0      0      0    0    0   0     7  \n",
      "Maserati        0       0      0      0      0    0    0   0     2  \n",
      "Mazda           0       0      0      0      0    0    0   0    17  \n",
      "Mercedes-Benz   0       0      0      0      0    0    0   0    23  \n",
      "Mercury         0       0      0      0      0    0    0   0     2  \n",
      "Mini            0       0      0      0      0    0    0   0     2  \n",
      "Mitsubishi      0       0      0      0      0    0    0   0    17  \n",
      "Nissan          0       1      0      0      1    0    0   0    58  \n",
      "Peugeot         0       0      0      0      0    0    0   0     4  \n",
      "Porsche         0       0      0      0      0    0    0   0     7  \n",
      "Renault         0       0      0      0      0    0    0   0    21  \n",
      "Subaru          0       0      0      0      0    0    0   0     2  \n",
      "Suzuki          0       0      0      0      0    0    0   0     4  \n",
      "Toyota          0       0     46      0      0    0    0   0   294  \n",
      "Volkswagen      0       0      0      0      0    0    0   0     4  \n",
      "Volvo           0       0      0      0      0    0    0   0     3  \n",
      "All             3       1     46     14      1    1    2   1  2287  \n",
      "\n",
      "[49 rows x 220 columns]\n",
      "====================================================================================================\n",
      "Expected values: \n",
      "\n",
      "[[0.00787057 0.00262352 0.00262352 ... 0.00262352 0.00524705 0.00262352]\n",
      " [0.00131176 0.00043725 0.00043725 ... 0.00043725 0.00087451 0.00043725]\n",
      " [0.01705291 0.0056843  0.0056843  ... 0.0056843  0.01136861 0.0056843 ]\n",
      " ...\n",
      " [0.38565807 0.12855269 0.12855269 ... 0.12855269 0.25710538 0.12855269]\n",
      " [0.00524705 0.00174902 0.00174902 ... 0.00174902 0.00349803 0.00174902]\n",
      " [0.00393529 0.00131176 0.00131176 ... 0.00131176 0.00262352 0.00131176]]\n",
      "====================================================================================================\n",
      "\n",
      "Chi-square is : 103356.18435237344 \n",
      "\n",
      "p_value is : 0.0 \n",
      "\n",
      "degree of freedom is :10246\n",
      "====================================================================================================\n",
      "\n",
      "There is statistically significant correlation between car_brand and car_model at 0.05 significant level\n"
     ]
    }
   ],
   "source": [
    "chi_square(df,'car_brand','car_model')"
   ]
  },
  {
   "cell_type": "code",
   "execution_count": null,
   "id": "e30db920-b682-4782-bd93-6c50151c2143",
   "metadata": {},
   "outputs": [],
   "source": [
    "# This code performs a Chi-Square test to evaluate the association between two categorical variables in a DataFrame.\n",
    "# It prints actual and expected frequency tables, along with the Chi-Square statistic, p-value, and degrees of freedom.\n",
    "# Based on the p-value, the code determines whether there is a statistically significant correlation between the two variables at a 0.05 significance level."
   ]
  },
  {
   "cell_type": "markdown",
   "id": "491717c1-2701-4788-b923-7aec442d059f",
   "metadata": {},
   "source": [
    "# As p-value < 5%, we reject the null hypothesis. There is a statistically significant correlation between car_brand and car_model at the 0.05 significance level.   "
   ]
  },
  {
   "cell_type": "code",
   "execution_count": 18,
   "id": "b597c024-d559-4f01-9838-e2cbe6b096aa",
   "metadata": {},
   "outputs": [
    {
     "name": "stdout",
     "output_type": "stream",
     "text": [
      "Actual values:\n",
      "\n",
      "car_transmission  Automatic  CVT  Manual   All\n",
      "car_brand                                     \n",
      "Abarth                    4    1       1     6\n",
      "Aston                     1    0       0     1\n",
      "Audi                     10    3       0    13\n",
      "BAIC                      1    0       0     1\n",
      "BMW                      27    1       0    28\n",
      "Bentley                   1    0       0     1\n",
      "Cadillac                  7    0       0     7\n",
      "Changan                   2    0       0     2\n",
      "Chery                     1    0       0     1\n",
      "Chevrolet                73    0       6    79\n",
      "Chrysler                  7    0       0     7\n",
      "Citroen                   1    0       0     1\n",
      "Dodge                    27    0       0    27\n",
      "Fiat                      0    0       2     2\n",
      "Ford                   1096    1      49  1146\n",
      "Foton                     1    0       0     1\n",
      "GAC                       1    0       0     1\n",
      "GMC                      30    0       1    31\n",
      "Geely                     5    0       5    10\n",
      "Great                     1    0       0     1\n",
      "Haval                     1    0       0     1\n",
      "Honda                    30    3       1    34\n",
      "Hyundai                 141    1      14   156\n",
      "Infiniti                  1    0       0     1\n",
      "Isuzu                     0    0       1     1\n",
      "Jaguar                    5    0       0     5\n",
      "Jeep                     13    0       0    13\n",
      "Kenbo                     0    0       1     1\n",
      "Kia                      91    0       1    92\n",
      "Land                     13    0       0    13\n",
      "Lexus                    23    0       0    23\n",
      "Lincoln                 114    0       0   114\n",
      "MG                        7    0       0     7\n",
      "Maserati                  2    0       0     2\n",
      "Mazda                    17    0       0    17\n",
      "Mercedes-Benz            22    0       1    23\n",
      "Mercury                   2    0       0     2\n",
      "Mini                      0    0       2     2\n",
      "Mitsubishi               12    0       5    17\n",
      "Nissan                   33   17       8    58\n",
      "Peugeot                   4    0       0     4\n",
      "Porsche                   7    0       0     7\n",
      "Renault                  12    5       4    21\n",
      "Subaru                    2    0       0     2\n",
      "Suzuki                    2    0       2     4\n",
      "Toyota                  219   42      33   294\n",
      "Volkswagen                4    0       0     4\n",
      "Volvo                     3    0       0     3\n",
      "All                    2076   74     137  2287\n",
      "====================================================================================================\n",
      "Expected values: \n",
      "\n",
      "[[5.44643638e+00 1.94140796e-01 3.59422825e-01]\n",
      " [9.07739397e-01 3.23567993e-02 5.99038041e-02]\n",
      " [1.18006122e+01 4.20638391e-01 7.78749453e-01]\n",
      " [9.07739397e-01 3.23567993e-02 5.99038041e-02]\n",
      " [2.54167031e+01 9.05990380e-01 1.67730652e+00]\n",
      " [9.07739397e-01 3.23567993e-02 5.99038041e-02]\n",
      " [6.35417578e+00 2.26497595e-01 4.19326629e-01]\n",
      " [1.81547879e+00 6.47135986e-02 1.19807608e-01]\n",
      " [9.07739397e-01 3.23567993e-02 5.99038041e-02]\n",
      " [7.17114123e+01 2.55618714e+00 4.73240052e+00]\n",
      " [6.35417578e+00 2.26497595e-01 4.19326629e-01]\n",
      " [9.07739397e-01 3.23567993e-02 5.99038041e-02]\n",
      " [2.45089637e+01 8.73633581e-01 1.61740271e+00]\n",
      " [1.81547879e+00 6.47135986e-02 1.19807608e-01]\n",
      " [1.04026935e+03 3.70808920e+01 6.86497595e+01]\n",
      " [9.07739397e-01 3.23567993e-02 5.99038041e-02]\n",
      " [9.07739397e-01 3.23567993e-02 5.99038041e-02]\n",
      " [2.81399213e+01 1.00306078e+00 1.85701793e+00]\n",
      " [9.07739397e+00 3.23567993e-01 5.99038041e-01]\n",
      " [9.07739397e-01 3.23567993e-02 5.99038041e-02]\n",
      " [9.07739397e-01 3.23567993e-02 5.99038041e-02]\n",
      " [3.08631395e+01 1.10013118e+00 2.03672934e+00]\n",
      " [1.41607346e+02 5.04766069e+00 9.34499344e+00]\n",
      " [9.07739397e-01 3.23567993e-02 5.99038041e-02]\n",
      " [9.07739397e-01 3.23567993e-02 5.99038041e-02]\n",
      " [4.53869698e+00 1.61783997e-01 2.99519021e-01]\n",
      " [1.18006122e+01 4.20638391e-01 7.78749453e-01]\n",
      " [9.07739397e-01 3.23567993e-02 5.99038041e-02]\n",
      " [8.35120245e+01 2.97682554e+00 5.51114998e+00]\n",
      " [1.18006122e+01 4.20638391e-01 7.78749453e-01]\n",
      " [2.08780061e+01 7.44206384e-01 1.37778749e+00]\n",
      " [1.03482291e+02 3.68867512e+00 6.82903367e+00]\n",
      " [6.35417578e+00 2.26497595e-01 4.19326629e-01]\n",
      " [1.81547879e+00 6.47135986e-02 1.19807608e-01]\n",
      " [1.54315697e+01 5.50065588e-01 1.01836467e+00]\n",
      " [2.08780061e+01 7.44206384e-01 1.37778749e+00]\n",
      " [1.81547879e+00 6.47135986e-02 1.19807608e-01]\n",
      " [1.81547879e+00 6.47135986e-02 1.19807608e-01]\n",
      " [1.54315697e+01 5.50065588e-01 1.01836467e+00]\n",
      " [5.26488850e+01 1.87669436e+00 3.47442064e+00]\n",
      " [3.63095759e+00 1.29427197e-01 2.39615216e-01]\n",
      " [6.35417578e+00 2.26497595e-01 4.19326629e-01]\n",
      " [1.90625273e+01 6.79492785e-01 1.25797989e+00]\n",
      " [1.81547879e+00 6.47135986e-02 1.19807608e-01]\n",
      " [3.63095759e+00 1.29427197e-01 2.39615216e-01]\n",
      " [2.66875383e+02 9.51289899e+00 1.76117184e+01]\n",
      " [3.63095759e+00 1.29427197e-01 2.39615216e-01]\n",
      " [2.72321819e+00 9.70703979e-02 1.79711412e-01]]\n",
      "====================================================================================================\n",
      "\n",
      "Chi-square is : 580.14162655759 \n",
      "\n",
      "p_value is : 4.2965355021419074e-71 \n",
      "\n",
      "degree of freedom is :94\n",
      "====================================================================================================\n",
      "\n",
      "There is statistically significant correlation between car_brand and car_transmission at 0.05 significant level\n"
     ]
    }
   ],
   "source": [
    "chi_square(df,'car_brand','car_transmission')"
   ]
  },
  {
   "cell_type": "markdown",
   "id": "35e135b6-8b90-4362-90c6-a5b682391c34",
   "metadata": {},
   "source": [
    "# As p-value > 5%, so we fail to jeject null hypothesis. we conclude 'car_brand' and 'car_transmission' are independent variables. "
   ]
  },
  {
   "cell_type": "code",
   "execution_count": null,
   "id": "c00799fd-6c6d-4f90-92b2-94f4daf73957",
   "metadata": {},
   "outputs": [],
   "source": []
  },
  {
   "cell_type": "markdown",
   "id": "6993fccf-f6c8-4985-8ffc-a646f5d4d075",
   "metadata": {},
   "source": [
    "# Q8.2) Correlation analysis to examine relationships between two numeric variables."
   ]
  },
  {
   "cell_type": "markdown",
   "id": "0de2c966-a02c-474a-9b04-1fb0d837ebd0",
   "metadata": {},
   "source": [
    "# Null Hypothesis (H₀): \"There is no relationship between car_price and car_model_year.\""
   ]
  },
  {
   "cell_type": "code",
   "execution_count": 19,
   "id": "771a6161-8142-4eea-a473-387eedceb85c",
   "metadata": {},
   "outputs": [
    {
     "data": {
      "image/png": "[encoded data removed]",
      "text/plain": [
       "<Figure size 800x800 with 2 Axes>"
      ]
     },
     "metadata": {},
     "output_type": "display_data"
    }
   ],
   "source": [
    "corr_matrix = df[['car_price', 'car_model_year']].corr()\n",
    "\n",
    "plt.figure(figsize=(8, 8))\n",
    "sns.heatmap(corr_matrix, annot=True, cmap=\"Reds\", fmt=\".2f\", square=True)\n",
    "plt.title('Correlation Heatmap')\n",
    "plt.show()"
   ]
  },
  {
   "cell_type": "code",
   "execution_count": null,
   "id": "f5c3e2db-6445-4359-9a60-80dffeeb8ebe",
   "metadata": {},
   "outputs": [],
   "source": [
    "# The code calculates the correlation matrix between 'car_price' and 'car_model_year' to understand the strength and direction of the linear relationship between these two variables.\n",
    "# It visualizes the correlation using a heatmap, with the correlation values displayed in the cells, where red shading highlights the intensity of the correlation.\n",
    "# The heatmap is annotated, with values rounded to two decimal places for better readability, providing a quick summary of the relationship between the variables."
   ]
  },
  {
   "cell_type": "markdown",
   "id": "d2db1fe3-f38c-43d6-8897-f15857e092d2",
   "metadata": {},
   "source": [
    "# As we see, we have very weak positive relationship,close to 0, there is almost no linear relationship between car_price and car_model_year.This suggests that as the car model year increases, the car price does not consistently increase or decrease in a meaningful way."
   ]
  },
  {
   "cell_type": "code",
   "execution_count": null,
   "id": "d0e745bc-4df5-45c1-bb92-53eae4a7b0b5",
   "metadata": {},
   "outputs": [],
   "source": []
  },
  {
   "cell_type": "markdown",
   "id": "ac979398-9321-4299-84b2-2a54caabd103",
   "metadata": {},
   "source": [
    "# Q8.3) T-test or Mann-Whitney U test to compare means between two groups."
   ]
  },
  {
   "cell_type": "code",
   "execution_count": null,
   "id": "a03b04d6-d3c8-40f4-aac6-98672bfb96f5",
   "metadata": {},
   "outputs": [],
   "source": [
    "#  To compare means between groups, it’s important to first check if the data is normally distributed. "
   ]
  },
  {
   "cell_type": "markdown",
   "id": "4739ffdd-0508-4530-9c74-72e3df0e6c44",
   "metadata": {},
   "source": [
    "# Null Hypothesis (H₀): The data follows a normal distribution."
   ]
  },
  {
   "cell_type": "code",
   "execution_count": 20,
   "id": "f909df02-22a6-43ed-a872-ee8ed8a01b04",
   "metadata": {},
   "outputs": [
    {
     "name": "stdout",
     "output_type": "stream",
     "text": [
      "Shapiro Test for Automatic Transmission: ShapiroResult(statistic=0.016631339357394692, pvalue=2.5613947386555137e-73)\n",
      "Shapiro Test for Manual Transmission: ShapiroResult(statistic=0.26126299567784206, pvalue=2.691576605340159e-23)\n"
     ]
    }
   ],
   "source": [
    "import scipy.stats as stats\n",
    "auto_prices = df[df['car_transmission'] == 'Automatic']['car_price']\n",
    "manual_prices = df[df['car_transmission'] == 'Manual']['car_price']\n",
    "print(\"Shapiro Test for Automatic Transmission:\", stats.shapiro(auto_prices))\n",
    "print(\"Shapiro Test for Manual Transmission:\", stats.shapiro(manual_prices))"
   ]
  },
  {
   "cell_type": "code",
   "execution_count": null,
   "id": "c69dc35d-b6ee-4adb-b995-366a8f025c95",
   "metadata": {},
   "outputs": [],
   "source": [
    "# The Shapiro-Wilk test is applied separately to check the normality of car_price distribution for each car transmission type: Automatic and Manual.\n",
    "# The output includes the Shapiro-Wilk statistic and p-value for each transmission type, helping to determine whether the price data follows a normal distribution."
   ]
  },
  {
   "cell_type": "code",
   "execution_count": 630,
   "id": "2144608c-9280-416f-bf55-f566422ae3af",
   "metadata": {},
   "outputs": [
    {
     "data": {
      "text/plain": [
       "LeveneResult(statistic=17.087599271621357, pvalue=3.6334020940516046e-05)"
      ]
     },
     "execution_count": 630,
     "metadata": {},
     "output_type": "execute_result"
    }
   ],
   "source": [
    "stats.levene(df['car_transmission'] == 'Automatic', df['car_transmission'] == 'Manual')"
   ]
  },
  {
   "cell_type": "markdown",
   "id": "4a3babc4-7b1a-4053-a432-8ea2c639ce1d",
   "metadata": {},
   "source": [
    "# \"As the p-value for both groups is greater than 0.05 in the Shapiro-Wilk test, we fail to reject the null hypothesis, meaning the data for both groups follows a normal distribution. Additionally, the p-value for the test of variance equality suggests that the data meets the assumption of equal variances.\""
   ]
  },
  {
   "cell_type": "markdown",
   "id": "4ba8d10d-38ae-47ca-9498-ff7d25b15c42",
   "metadata": {},
   "source": [
    "# Null Hypothesis (H0): There is no significant difference in the mean car prices between the different groups of car transmission types (Automatic and Manual)."
   ]
  },
  {
   "cell_type": "code",
   "execution_count": 150,
   "id": "2fac231b-ff9a-46a2-a9c5-f418dadca5e3",
   "metadata": {},
   "outputs": [
    {
     "name": "stdout",
     "output_type": "stream",
     "text": [
      "T-statistic: 0.6570931079729276\n",
      "P-value: 0.5111894410927296\n",
      "Fail to reject the null hypothesis: There is no significant difference in mean car prices between automatic and manual transmissions.\n"
     ]
    }
   ],
   "source": [
    "auto_prices = df[df['car_transmission'] == 'Automatic']['car_price']\n",
    "manual_prices = df[df['car_transmission'] == 'Manual']['car_price']\n",
    "\n",
    "t_stat, p_value = stats.ttest_ind(auto_prices, manual_prices)  \n",
    "\n",
    "print(f'T-statistic: {t_stat}')\n",
    "print(f'P-value: {p_value}')\n",
    "\n",
    "alpha = 0.05  \n",
    "if p_value < alpha:\n",
    "    print(\"Reject the null hypothesis: There is a significant difference in mean car prices between automatic and manual transmissions.\")\n",
    "else:\n",
    "    print(\"Fail to reject the null hypothesis: There is no significant difference in mean car prices between automatic and manual transmissions.\")"
   ]
  },
  {
   "cell_type": "markdown",
   "id": "ebc87917-a7ce-4e68-b945-fdd18566915e",
   "metadata": {},
   "source": [
    "# \"As the p-value is greater than 0.05, we fail to reject the null hypothesis. Therefore, there is no significant difference between the mean car prices of automatic and manual transmissions.\""
   ]
  },
  {
   "cell_type": "code",
   "execution_count": null,
   "id": "d4c64093-53d2-4ce9-9d36-3e2c671c389e",
   "metadata": {},
   "outputs": [],
   "source": []
  },
  {
   "cell_type": "markdown",
   "id": "80e90fc3-cc0b-47f7-950c-6af17a97eb7f",
   "metadata": {},
   "source": [
    "# Q8.4) Analysis of Variance (ANOVA) to compare means across multiple groups."
   ]
  },
  {
   "cell_type": "markdown",
   "id": "36c46019-c1ec-4ebd-8288-f153b02339d1",
   "metadata": {},
   "source": [
    "# H0: The mean car price is the same for all transmission types (Automatic, Manual, and CVT)."
   ]
  },
  {
   "cell_type": "code",
   "execution_count": 149,
   "id": "d2bf2381-2002-4d46-947f-b7e5fd28b44f",
   "metadata": {},
   "outputs": [
    {
     "name": "stdout",
     "output_type": "stream",
     "text": [
      "ANOVA test statistic: 0.307385426652203\n",
      "P-value: 0.7353975324471393\n",
      "Fail to reject the null hypothesis: There is no significant difference in car prices among the transmission types.\n"
     ]
    }
   ],
   "source": [
    "auto_prices = df[df['car_transmission'] == 'Automatic']['car_price']\n",
    "manual_prices = df[df['car_transmission'] == 'Manual']['car_price']\n",
    "CVT_prices = df[df['car_transmission'] == 'CVT']['car_price']\n",
    "\n",
    "f_statistic, p_value = stats.f_oneway(auto_prices, manual_prices, CVT_prices)\n",
    "\n",
    "print(f\"ANOVA test statistic: {f_statistic}\")\n",
    "print(f\"P-value: {p_value}\")\n",
    "\n",
    "if p_value < 0.05:\n",
    "    print(\"Reject the null hypothesis: There is a significant difference in car prices among the transmission types.\")\n",
    "else:\n",
    "    print(\"Fail to reject the null hypothesis: There is no significant difference in car prices among the transmission types.\")"
   ]
  },
  {
   "cell_type": "markdown",
   "id": "dbe19491-ed8b-4955-a7eb-15e90c58b48f",
   "metadata": {},
   "source": [
    "# \"As the p-value is greater than 0.05, we fail to reject the null hypothesis. Therefore, there is no significant difference in the mean car prices among the different groups of car transmission types (Automatic, Manual, and CVT).\""
   ]
  },
  {
   "cell_type": "code",
   "execution_count": null,
   "id": "524edc59-fe62-41cb-9e66-1e069a59a60d",
   "metadata": {},
   "outputs": [],
   "source": []
  },
  {
   "cell_type": "markdown",
   "id": "429d46e7-3556-49e8-9817-5924902efab7",
   "metadata": {},
   "source": [
    "# Q9) Check for presence of collinearity and multi-collinearity and address it appropriately."
   ]
  },
  {
   "cell_type": "code",
   "execution_count": 90,
   "id": "5829cfc4-a9f6-4aba-9fc2-4774432e2279",
   "metadata": {},
   "outputs": [
    {
     "data": {
      "image/png": "[encoded data removed]",
      "text/plain": [
       "<Figure size 1000x600 with 2 Axes>"
      ]
     },
     "metadata": {},
     "output_type": "display_data"
    }
   ],
   "source": [
    "# checking for collinearity:\n",
    "\n",
    "corr_matrix = df.corr(numeric_only=True)\n",
    "\n",
    "plt.figure(figsize=(10, 6))\n",
    "sns.heatmap(corr_matrix, annot=True, cmap='coolwarm', center=0)\n",
    "plt.title(\"Correlation Matrix\")\n",
    "plt.show()"
   ]
  },
  {
   "cell_type": "code",
   "execution_count": null,
   "id": "b276fe65-4507-4288-b147-eb0ccd7bc0da",
   "metadata": {},
   "outputs": [],
   "source": [
    "#The code calculates the correlation matrix for all numeric columns in the DataFrame df, providing insights into the relationships between different features.\n",
    "# A heatmap is generated to visually represent the correlation coefficients, with annotations displaying the actual values and a color palette that distinguishes positive and negative correlations.\n",
    "# The visualization helps identify potential multicollinearity issues by highlighting strong correlations (close to 1 or -1) among numeric variables, which is essential for effective statistical modeling."
   ]
  },
  {
   "cell_type": "markdown",
   "id": "505314da-bdf0-4736-9954-d62138aaf4a6",
   "metadata": {},
   "source": [
    "# There is no significant collinearity present among the three variables (car_driven, car_model_year, and car_price) based on the correlation coefficients."
   ]
  },
  {
   "cell_type": "code",
   "execution_count": 91,
   "id": "280e21d3-07d3-42f6-ada1-e436faab864e",
   "metadata": {},
   "outputs": [
    {
     "data": {
      "text/html": [
       "<div>\n",
       "<style scoped>\n",
       "    .dataframe tbody tr th:only-of-type {\n",
       "        vertical-align: middle;\n",
       "    }\n",
       "\n",
       "    .dataframe tbody tr th {\n",
       "        vertical-align: top;\n",
       "    }\n",
       "\n",
       "    .dataframe thead th {\n",
       "        text-align: right;\n",
       "    }\n",
       "</style>\n",
       "<table border=\"1\" class=\"dataframe\">\n",
       "  <thead>\n",
       "    <tr style=\"text-align: right;\">\n",
       "      <th></th>\n",
       "      <th>Variable</th>\n",
       "      <th>VIF</th>\n",
       "    </tr>\n",
       "  </thead>\n",
       "  <tbody>\n",
       "    <tr>\n",
       "      <th>0</th>\n",
       "      <td>const</td>\n",
       "      <td>405324.667707</td>\n",
       "    </tr>\n",
       "    <tr>\n",
       "      <th>1</th>\n",
       "      <td>car_driven</td>\n",
       "      <td>1.325313</td>\n",
       "    </tr>\n",
       "    <tr>\n",
       "      <th>2</th>\n",
       "      <td>car_model_year</td>\n",
       "      <td>1.324884</td>\n",
       "    </tr>\n",
       "    <tr>\n",
       "      <th>3</th>\n",
       "      <td>car_price</td>\n",
       "      <td>1.001335</td>\n",
       "    </tr>\n",
       "  </tbody>\n",
       "</table>\n",
       "</div>"
      ],
      "text/plain": [
       "         Variable            VIF\n",
       "0           const  405324.667707\n",
       "1      car_driven       1.325313\n",
       "2  car_model_year       1.324884\n",
       "3       car_price       1.001335"
      ]
     },
     "execution_count": 91,
     "metadata": {},
     "output_type": "execute_result"
    }
   ],
   "source": [
    "# calculating VIF:\n",
    "\n",
    "numeric_features = df.select_dtypes(include=['float64', 'int64'])\n",
    "\n",
    "X = add_constant(numeric_features)\n",
    "\n",
    "vif_data = pd.DataFrame()\n",
    "vif_data[\"Variable\"] = X.columns\n",
    "vif_data[\"VIF\"] = [variance_inflation_factor(X.values, i) for i in range(X.shape[1])]\n",
    "vif_data"
   ]
  },
  {
   "cell_type": "code",
   "execution_count": 645,
   "id": "327f8823-a374-43ea-8f39-95d112e61dc5",
   "metadata": {},
   "outputs": [],
   "source": [
    "#Calculation of VIF: The code calculates the Variance Inflation Factor (VIF) for each numeric variable in the DataFrame df, helping to assess multicollinearity among the predictor variables.\n",
    "\n",
    "#Inclusion of Intercept: An intercept column is added to the feature set X, which is essential for accurate VIF calculation since VIF quantifies how much the variance of a regression coefficient is inflated due to multicollinearity.\n",
    "\n",
    "#Output of VIF Values: The resulting DataFrame vif contains the VIF values for each variable (excluding the intercept), allowing for easy identification of variables with high multicollinearity, where a VIF value above 5-10 typically indicates problematic multicollinearity."
   ]
  },
  {
   "cell_type": "markdown",
   "id": "ed95a1ee-f36c-477c-a9d9-08ab94364f8c",
   "metadata": {},
   "source": [
    "# Since all VIF values are well below the common threshold of 5 or 10, it can be concluded that the predictors in the model do not exhibit problematic multicollinearity."
   ]
  },
  {
   "cell_type": "markdown",
   "id": "1f58b772-0d55-4376-9b1c-1b29b9d77a82",
   "metadata": {},
   "source": [
    "# Q10) Encode the data if required (if there are categorical independent variables)."
   ]
  },
  {
   "cell_type": "code",
   "execution_count": 92,
   "id": "9afdf228-b3b1-4653-aa13-8a8496f026c7",
   "metadata": {},
   "outputs": [
    {
     "data": {
      "text/html": [
       "<div>\n",
       "<style scoped>\n",
       "    .dataframe tbody tr th:only-of-type {\n",
       "        vertical-align: middle;\n",
       "    }\n",
       "\n",
       "    .dataframe tbody tr th {\n",
       "        vertical-align: top;\n",
       "    }\n",
       "\n",
       "    .dataframe thead th {\n",
       "        text-align: right;\n",
       "    }\n",
       "</style>\n",
       "<table border=\"1\" class=\"dataframe\">\n",
       "  <thead>\n",
       "    <tr style=\"text-align: right;\">\n",
       "      <th></th>\n",
       "      <th>const</th>\n",
       "      <th>car_driven</th>\n",
       "      <th>car_model_year</th>\n",
       "      <th>car_price</th>\n",
       "    </tr>\n",
       "  </thead>\n",
       "  <tbody>\n",
       "    <tr>\n",
       "      <th>0</th>\n",
       "      <td>1.0</td>\n",
       "      <td>83491.0</td>\n",
       "      <td>2018</td>\n",
       "      <td>64000.0</td>\n",
       "    </tr>\n",
       "    <tr>\n",
       "      <th>1</th>\n",
       "      <td>1.0</td>\n",
       "      <td>222000.0</td>\n",
       "      <td>2009</td>\n",
       "      <td>20000.0</td>\n",
       "    </tr>\n",
       "    <tr>\n",
       "      <th>2</th>\n",
       "      <td>1.0</td>\n",
       "      <td>0.0</td>\n",
       "      <td>2022</td>\n",
       "      <td>135000.0</td>\n",
       "    </tr>\n",
       "    <tr>\n",
       "      <th>3</th>\n",
       "      <td>1.0</td>\n",
       "      <td>178000.0</td>\n",
       "      <td>2012</td>\n",
       "      <td>23000.0</td>\n",
       "    </tr>\n",
       "    <tr>\n",
       "      <th>4</th>\n",
       "      <td>1.0</td>\n",
       "      <td>10500.0</td>\n",
       "      <td>2020</td>\n",
       "      <td>32000.0</td>\n",
       "    </tr>\n",
       "  </tbody>\n",
       "</table>\n",
       "</div>"
      ],
      "text/plain": [
       "   const  car_driven  car_model_year  car_price\n",
       "0    1.0     83491.0            2018    64000.0\n",
       "1    1.0    222000.0            2009    20000.0\n",
       "2    1.0         0.0            2022   135000.0\n",
       "3    1.0    178000.0            2012    23000.0\n",
       "4    1.0     10500.0            2020    32000.0"
      ]
     },
     "execution_count": 92,
     "metadata": {},
     "output_type": "execute_result"
    }
   ],
   "source": [
    "df_encoded = pd.get_dummies(X, drop_first=False)\n",
    "df_encoded.head()"
   ]
  },
  {
   "cell_type": "code",
   "execution_count": null,
   "id": "305a3172-e447-42f8-9a65-dc29a93e3fcc",
   "metadata": {},
   "outputs": [],
   "source": [
    "# Used pd.get_dummies() function to perform one-hot encoding on the DataFrame X, converting categorical variables into a format suitable for modeling by creating binary (0 or 1) columns for each category.\n",
    "\n",
    "# By setting drop_first=False, the code retains all original category columns in the resulting DataFrame, allowing for the inclusion of all categories in the analysis, which can be beneficial for interpreting the effects of each category.\n",
    "\n",
    "# The transformed DataFrame X is now better suited for machine learning algorithms that require numerical input, facilitating the preparation for subsequent modeling steps."
   ]
  },
  {
   "cell_type": "markdown",
   "id": "24fa2ac3-a65d-40d7-b7cf-2cc58623811b",
   "metadata": {},
   "source": [
    "# Q11) Split the dataset into training and testing subsets."
   ]
  },
  {
   "cell_type": "code",
   "execution_count": 98,
   "id": "24d7a2e6-3b55-4af5-902f-c23f2ea8be5d",
   "metadata": {},
   "outputs": [
    {
     "name": "stdout",
     "output_type": "stream",
     "text": [
      "Training set size: 1372\n",
      "Testing set size: 915\n"
     ]
    }
   ],
   "source": [
    "X = df.drop(columns=['car_price'], axis=1)   \n",
    "y = df['car_price']                 \n",
    "\n",
    "X_train, X_test, y_train, y_test = train_test_split(X, y, test_size=0.4, random_state=1)\n",
    "\n",
    "print(f'Training set size: {X_train.shape[0]}')\n",
    "print(f'Testing set size: {X_test.shape[0]}')\n"
   ]
  },
  {
   "cell_type": "code",
   "execution_count": null,
   "id": "a8c525ee-7064-4ca1-a9bf-caec43824c4b",
   "metadata": {},
   "outputs": [],
   "source": [
    "# The code separates the features (independent variables) from the target variable (car_price) by dropping car_price from the DataFrame df to create X, while y contains the target variable.\n",
    "\n",
    "# The dataset is split into training and testing sets using train_test_split, with 60% of the data allocated to the training set and 40% to the testing set, ensuring that the random seed is set to 1 for reproducibility.\n",
    "\n",
    "# The sizes of the training and testing sets are printed, providing insights into the distribution of data used for model training and evaluation."
   ]
  },
  {
   "cell_type": "code",
   "execution_count": 44,
   "id": "c520fee8-ff71-424b-b9a1-1d4465671281",
   "metadata": {},
   "outputs": [
    {
     "data": {
      "text/plain": [
       "car_price\n",
       "20999.0     41\n",
       "52500.0     39\n",
       "54999.0     38\n",
       "134999.0    35\n",
       "45000.0     24\n",
       "            ..\n",
       "93000.0      1\n",
       "108000.0     1\n",
       "62500.0      1\n",
       "5400.0       1\n",
       "11996.0      1\n",
       "Name: count, Length: 225, dtype: int64"
      ]
     },
     "execution_count": 44,
     "metadata": {},
     "output_type": "execute_result"
    }
   ],
   "source": [
    "y_train.value_counts()"
   ]
  },
  {
   "cell_type": "code",
   "execution_count": 45,
   "id": "9b0d2d38-e620-49d4-b1cf-4e7659210806",
   "metadata": {},
   "outputs": [
    {
     "data": {
      "text/plain": [
       "car_price\n",
       "20999.0     41\n",
       "45000.0     25\n",
       "134999.0    24\n",
       "44999.0     19\n",
       "20000.0     19\n",
       "            ..\n",
       "22500.0      1\n",
       "103000.0     1\n",
       "34500.0      1\n",
       "6500.0       1\n",
       "2500.0       1\n",
       "Name: count, Length: 200, dtype: int64"
      ]
     },
     "execution_count": 45,
     "metadata": {},
     "output_type": "execute_result"
    }
   ],
   "source": [
    "y_test.value_counts()"
   ]
  },
  {
   "cell_type": "code",
   "execution_count": 47,
   "id": "a917e588-7e4d-409a-878b-a6db403d4304",
   "metadata": {},
   "outputs": [
    {
     "data": {
      "text/plain": [
       "((1372, 5), (915, 5))"
      ]
     },
     "execution_count": 47,
     "metadata": {},
     "output_type": "execute_result"
    }
   ],
   "source": [
    "X_train.shape, X_test.shape"
   ]
  },
  {
   "cell_type": "code",
   "execution_count": 48,
   "id": "7da539bd-a970-47c5-8af7-5efe38602e5f",
   "metadata": {},
   "outputs": [
    {
     "name": "stdout",
     "output_type": "stream",
     "text": [
      "<class 'pandas.core.frame.DataFrame'>\n",
      "Index: 1372 entries, 2211 to 1061\n",
      "Data columns (total 5 columns):\n",
      " #   Column            Non-Null Count  Dtype  \n",
      "---  ------            --------------  -----  \n",
      " 0   car_brand         1372 non-null   object \n",
      " 1   car_model         1372 non-null   object \n",
      " 2   car_driven        1372 non-null   float64\n",
      " 3   car_transmission  1372 non-null   object \n",
      " 4   car_model_year    1372 non-null   int64  \n",
      "dtypes: float64(1), int64(1), object(3)\n",
      "memory usage: 64.3+ KB\n"
     ]
    }
   ],
   "source": [
    "X_train.info()"
   ]
  },
  {
   "cell_type": "markdown",
   "id": "1a443778-274a-4969-96b4-9318e36f5ad0",
   "metadata": {},
   "source": [
    "# Q12) Scale the training data and use the same scaler to also scale the test data."
   ]
  },
  {
   "cell_type": "code",
   "execution_count": 101,
   "id": "c05e260d-7d26-4216-b1b4-73cc28829d8f",
   "metadata": {},
   "outputs": [
    {
     "data": {
      "text/html": [
       "<div>\n",
       "<style scoped>\n",
       "    .dataframe tbody tr th:only-of-type {\n",
       "        vertical-align: middle;\n",
       "    }\n",
       "\n",
       "    .dataframe tbody tr th {\n",
       "        vertical-align: top;\n",
       "    }\n",
       "\n",
       "    .dataframe thead th {\n",
       "        text-align: right;\n",
       "    }\n",
       "</style>\n",
       "<table border=\"1\" class=\"dataframe\">\n",
       "  <thead>\n",
       "    <tr style=\"text-align: right;\">\n",
       "      <th></th>\n",
       "      <th>car_driven</th>\n",
       "      <th>car_model_year</th>\n",
       "      <th>car_brand_Abarth</th>\n",
       "      <th>car_brand_Aston</th>\n",
       "      <th>car_brand_Audi</th>\n",
       "      <th>car_brand_BAIC</th>\n",
       "      <th>car_brand_BMW</th>\n",
       "      <th>car_brand_Bentley</th>\n",
       "      <th>car_brand_Cadillac</th>\n",
       "      <th>car_brand_Changan</th>\n",
       "      <th>...</th>\n",
       "      <th>car_model_Xterra</th>\n",
       "      <th>car_model_Yaris</th>\n",
       "      <th>car_model_Yukon</th>\n",
       "      <th>car_model_ZX300</th>\n",
       "      <th>car_model_i10</th>\n",
       "      <th>car_model_i30</th>\n",
       "      <th>car_model_i8</th>\n",
       "      <th>car_transmission_Automatic</th>\n",
       "      <th>car_transmission_CVT</th>\n",
       "      <th>car_transmission_Manual</th>\n",
       "    </tr>\n",
       "  </thead>\n",
       "  <tbody>\n",
       "    <tr>\n",
       "      <th>0</th>\n",
       "      <td>3.368781</td>\n",
       "      <td>-4.033207</td>\n",
       "      <td>-0.046812</td>\n",
       "      <td>-0.027007</td>\n",
       "      <td>-0.071611</td>\n",
       "      <td>-0.027007</td>\n",
       "      <td>-0.108625</td>\n",
       "      <td>0.0</td>\n",
       "      <td>-0.027007</td>\n",
       "      <td>-0.027007</td>\n",
       "      <td>...</td>\n",
       "      <td>-0.027007</td>\n",
       "      <td>-0.141684</td>\n",
       "      <td>-0.081259</td>\n",
       "      <td>0.0</td>\n",
       "      <td>-0.027007</td>\n",
       "      <td>-0.027007</td>\n",
       "      <td>-0.027007</td>\n",
       "      <td>-2.978339</td>\n",
       "      <td>-0.186255</td>\n",
       "      <td>3.708462</td>\n",
       "    </tr>\n",
       "    <tr>\n",
       "      <th>1</th>\n",
       "      <td>1.294540</td>\n",
       "      <td>-2.435374</td>\n",
       "      <td>-0.046812</td>\n",
       "      <td>-0.027007</td>\n",
       "      <td>-0.071611</td>\n",
       "      <td>-0.027007</td>\n",
       "      <td>-0.108625</td>\n",
       "      <td>0.0</td>\n",
       "      <td>-0.027007</td>\n",
       "      <td>-0.027007</td>\n",
       "      <td>...</td>\n",
       "      <td>-0.027007</td>\n",
       "      <td>-0.141684</td>\n",
       "      <td>-0.081259</td>\n",
       "      <td>0.0</td>\n",
       "      <td>-0.027007</td>\n",
       "      <td>-0.027007</td>\n",
       "      <td>-0.027007</td>\n",
       "      <td>-2.978339</td>\n",
       "      <td>-0.186255</td>\n",
       "      <td>3.708462</td>\n",
       "    </tr>\n",
       "    <tr>\n",
       "      <th>2</th>\n",
       "      <td>0.414460</td>\n",
       "      <td>-0.304931</td>\n",
       "      <td>-0.046812</td>\n",
       "      <td>-0.027007</td>\n",
       "      <td>-0.071611</td>\n",
       "      <td>-0.027007</td>\n",
       "      <td>-0.108625</td>\n",
       "      <td>0.0</td>\n",
       "      <td>-0.027007</td>\n",
       "      <td>-0.027007</td>\n",
       "      <td>...</td>\n",
       "      <td>-0.027007</td>\n",
       "      <td>-0.141684</td>\n",
       "      <td>-0.081259</td>\n",
       "      <td>0.0</td>\n",
       "      <td>-0.027007</td>\n",
       "      <td>-0.027007</td>\n",
       "      <td>-0.027007</td>\n",
       "      <td>0.335758</td>\n",
       "      <td>-0.186255</td>\n",
       "      <td>-0.269654</td>\n",
       "    </tr>\n",
       "    <tr>\n",
       "      <th>3</th>\n",
       "      <td>-0.633667</td>\n",
       "      <td>0.760290</td>\n",
       "      <td>-0.046812</td>\n",
       "      <td>-0.027007</td>\n",
       "      <td>-0.071611</td>\n",
       "      <td>-0.027007</td>\n",
       "      <td>-0.108625</td>\n",
       "      <td>0.0</td>\n",
       "      <td>-0.027007</td>\n",
       "      <td>-0.027007</td>\n",
       "      <td>...</td>\n",
       "      <td>-0.027007</td>\n",
       "      <td>-0.141684</td>\n",
       "      <td>-0.081259</td>\n",
       "      <td>0.0</td>\n",
       "      <td>-0.027007</td>\n",
       "      <td>-0.027007</td>\n",
       "      <td>-0.027007</td>\n",
       "      <td>0.335758</td>\n",
       "      <td>-0.186255</td>\n",
       "      <td>-0.269654</td>\n",
       "    </tr>\n",
       "    <tr>\n",
       "      <th>4</th>\n",
       "      <td>-0.190800</td>\n",
       "      <td>1.292901</td>\n",
       "      <td>-0.046812</td>\n",
       "      <td>-0.027007</td>\n",
       "      <td>-0.071611</td>\n",
       "      <td>-0.027007</td>\n",
       "      <td>-0.108625</td>\n",
       "      <td>0.0</td>\n",
       "      <td>-0.027007</td>\n",
       "      <td>-0.027007</td>\n",
       "      <td>...</td>\n",
       "      <td>-0.027007</td>\n",
       "      <td>-0.141684</td>\n",
       "      <td>-0.081259</td>\n",
       "      <td>0.0</td>\n",
       "      <td>-0.027007</td>\n",
       "      <td>-0.027007</td>\n",
       "      <td>-0.027007</td>\n",
       "      <td>0.335758</td>\n",
       "      <td>-0.186255</td>\n",
       "      <td>-0.269654</td>\n",
       "    </tr>\n",
       "  </tbody>\n",
       "</table>\n",
       "<p>5 rows × 272 columns</p>\n",
       "</div>"
      ],
      "text/plain": [
       "   car_driven  car_model_year  car_brand_Abarth  car_brand_Aston  \\\n",
       "0    3.368781       -4.033207         -0.046812        -0.027007   \n",
       "1    1.294540       -2.435374         -0.046812        -0.027007   \n",
       "2    0.414460       -0.304931         -0.046812        -0.027007   \n",
       "3   -0.633667        0.760290         -0.046812        -0.027007   \n",
       "4   -0.190800        1.292901         -0.046812        -0.027007   \n",
       "\n",
       "   car_brand_Audi  car_brand_BAIC  car_brand_BMW  car_brand_Bentley  \\\n",
       "0       -0.071611       -0.027007      -0.108625                0.0   \n",
       "1       -0.071611       -0.027007      -0.108625                0.0   \n",
       "2       -0.071611       -0.027007      -0.108625                0.0   \n",
       "3       -0.071611       -0.027007      -0.108625                0.0   \n",
       "4       -0.071611       -0.027007      -0.108625                0.0   \n",
       "\n",
       "   car_brand_Cadillac  car_brand_Changan  ...  car_model_Xterra  \\\n",
       "0           -0.027007          -0.027007  ...         -0.027007   \n",
       "1           -0.027007          -0.027007  ...         -0.027007   \n",
       "2           -0.027007          -0.027007  ...         -0.027007   \n",
       "3           -0.027007          -0.027007  ...         -0.027007   \n",
       "4           -0.027007          -0.027007  ...         -0.027007   \n",
       "\n",
       "   car_model_Yaris  car_model_Yukon  car_model_ZX300  car_model_i10  \\\n",
       "0        -0.141684        -0.081259              0.0      -0.027007   \n",
       "1        -0.141684        -0.081259              0.0      -0.027007   \n",
       "2        -0.141684        -0.081259              0.0      -0.027007   \n",
       "3        -0.141684        -0.081259              0.0      -0.027007   \n",
       "4        -0.141684        -0.081259              0.0      -0.027007   \n",
       "\n",
       "   car_model_i30  car_model_i8  car_transmission_Automatic  \\\n",
       "0      -0.027007     -0.027007                   -2.978339   \n",
       "1      -0.027007     -0.027007                   -2.978339   \n",
       "2      -0.027007     -0.027007                    0.335758   \n",
       "3      -0.027007     -0.027007                    0.335758   \n",
       "4      -0.027007     -0.027007                    0.335758   \n",
       "\n",
       "   car_transmission_CVT  car_transmission_Manual  \n",
       "0             -0.186255                 3.708462  \n",
       "1             -0.186255                 3.708462  \n",
       "2             -0.186255                -0.269654  \n",
       "3             -0.186255                -0.269654  \n",
       "4             -0.186255                -0.269654  \n",
       "\n",
       "[5 rows x 272 columns]"
      ]
     },
     "execution_count": 101,
     "metadata": {},
     "output_type": "execute_result"
    }
   ],
   "source": [
    "import pandas as pd\n",
    "import numpy as np\n",
    "from sklearn.model_selection import train_test_split\n",
    "from sklearn.linear_model import LinearRegression\n",
    "from sklearn.preprocessing import StandardScaler\n",
    "from sklearn.metrics import r2_score, mean_squared_error\n",
    "\n",
    "df = pd.read_csv('used_car_cleaned.csv')\n",
    "\n",
    "X = df.drop('car_price', axis=1)  \n",
    "y = df['car_price']\n",
    "\n",
    "X_encoded = pd.get_dummies(X, drop_first=False)\n",
    "\n",
    "X_train, X_test, y_train, y_test = train_test_split(X_encoded, y, test_size=0.4, random_state=1)\n",
    "\n",
    "scaler = StandardScaler()\n",
    "X_train_scaled = scaler.fit_transform(X_train)\n",
    "X_test_scaled = scaler.transform(X_test)\n",
    "\n",
    "X_train_scaled = pd.DataFrame(X_train_scaled, columns=X_train.columns)\n",
    "X_test_scaled = pd.DataFrame(X_test_scaled, columns=X_test.columns)\n",
    "X_train_scaled.head()"
   ]
  },
  {
   "cell_type": "code",
   "execution_count": null,
   "id": "042c0f15-1c6b-4f63-849b-ae8310e53ac6",
   "metadata": {},
   "outputs": [],
   "source": [
    "# The StandardScaler() is applied to standardize the features. The training set is fitted and transformed, while the testing set is only transformed \n",
    "#using the parameters from the training set. The scaled training set is then converted back into a DataFrame, preserving the original column names for easier interpretation."
   ]
  },
  {
   "cell_type": "code",
   "execution_count": 55,
   "id": "eb0ff20a-281a-41cd-9bac-5753cc820c8c",
   "metadata": {},
   "outputs": [
    {
     "name": "stdout",
     "output_type": "stream",
     "text": [
      "Before scaling: (2287, 5)\n",
      "After scaling: (1372, 272)\n"
     ]
    }
   ],
   "source": [
    "print('Before scaling:', X.shape)   \n",
    "print('After scaling:', X_train_scaled.shape)  "
   ]
  },
  {
   "cell_type": "code",
   "execution_count": 57,
   "id": "07cd6730-078c-4d5e-b08f-708e2421b944",
   "metadata": {},
   "outputs": [
    {
     "name": "stdout",
     "output_type": "stream",
     "text": [
      "X_train: (1372, 272)\n",
      "y_train: (1372,)\n",
      "X_test: (915, 272)\n",
      "y_test: (915,)\n"
     ]
    }
   ],
   "source": [
    "print('X_train:', X_train.shape)\n",
    "print('y_train:', y_train.shape)\n",
    "print('X_test:', X_test.shape)\n",
    "print('y_test:', y_test.shape)"
   ]
  },
  {
   "cell_type": "markdown",
   "id": "3c540b00-0c29-4956-b2ff-b98b1fc66695",
   "metadata": {},
   "source": [
    "# Q13) Select one categorical variable as the target. Conduct logistic regression and decision tree analysis to predict it and compare the performance of the two models.Check for overfitting and take steps to address it.\n"
   ]
  },
  {
   "cell_type": "code",
   "execution_count": 109,
   "id": "3efe866e-e4cd-4831-861b-1408732479a1",
   "metadata": {},
   "outputs": [
    {
     "name": "stdout",
     "output_type": "stream",
     "text": [
      "Logistic Regression Accuracy: 0.9377049180327869\n",
      "Confusion Matrix (Logistic Regression):\n",
      "[[826   3  14]\n",
      " [ 21   5   2]\n",
      " [ 17   0  27]]\n",
      "              precision    recall  f1-score   support\n",
      "\n",
      "   Automatic       0.96      0.98      0.97       843\n",
      "         CVT       0.62      0.18      0.28        28\n",
      "      Manual       0.63      0.61      0.62        44\n",
      "\n",
      "    accuracy                           0.94       915\n",
      "   macro avg       0.74      0.59      0.62       915\n",
      "weighted avg       0.93      0.94      0.93       915\n",
      "\n",
      "Decision Tree Accuracy: 0.9420765027322404\n",
      "              precision    recall  f1-score   support\n",
      "\n",
      "   Automatic       0.96      0.98      0.97       843\n",
      "         CVT       0.64      0.32      0.43        28\n",
      "      Manual       0.69      0.55      0.61        44\n",
      "\n",
      "    accuracy                           0.94       915\n",
      "   macro avg       0.76      0.62      0.67       915\n",
      "weighted avg       0.93      0.94      0.94       915\n",
      "\n",
      "Logistic Regression Training Accuracy: 0.9438775510204082\n",
      "Decision Tree Training Accuracy: 0.9431486880466472\n"
     ]
    }
   ],
   "source": [
    "import pandas as pd\n",
    "from sklearn.model_selection import train_test_split\n",
    "from sklearn.linear_model import LogisticRegression\n",
    "from sklearn.tree import DecisionTreeClassifier\n",
    "from sklearn.metrics import accuracy_score, confusion_matrix, classification_report\n",
    "from sklearn.preprocessing import StandardScaler\n",
    "\n",
    "df = pd.read_csv('used_car_cleaned.csv')\n",
    "\n",
    "target_variable = 'car_transmission'  \n",
    "X = df.drop(target_variable, axis=1)  \n",
    "y = df[target_variable]  \n",
    "\n",
    "X_encoded = pd.get_dummies(X, drop_first=True)\n",
    "\n",
    "X_train, X_test, y_train, y_test = train_test_split(X_encoded, y, test_size=0.4, random_state=1)\n",
    "\n",
    "scaler = StandardScaler()\n",
    "X_train_scaled = scaler.fit_transform(X_train)\n",
    "X_test_scaled = scaler.transform(X_test)\n",
    "\n",
    "X_train_scaled = pd.DataFrame(X_train_scaled, columns=X_train.columns)\n",
    "X_test_scaled = pd.DataFrame(X_test_scaled, columns=X_test.columns)\n",
    "\n",
    "logistic_model = LogisticRegression(multi_class='ovr', max_iter=1000)\n",
    "logistic_model.fit(X_train_scaled, y_train)\n",
    "\n",
    "y_pred_logistic = logistic_model.predict(X_test_scaled)\n",
    "\n",
    "accuracy_logistic = accuracy_score(y_test, y_pred_logistic)\n",
    "print(\"Logistic Regression Accuracy:\", accuracy_logistic)\n",
    "\n",
    "print('Confusion Matrix (Logistic Regression):')\n",
    "print(confusion_matrix(y_test, y_pred_logistic))\n",
    "print(classification_report(y_test, y_pred_logistic))\n",
    "\n",
    "decision_tree_model = DecisionTreeClassifier(max_depth=5, random_state=1)\n",
    "decision_tree_model.fit(X_train_scaled, y_train)\n",
    "\n",
    "y_pred_tree = decision_tree_model.predict(X_test_scaled)\n",
    "\n",
    "accuracy_tree = accuracy_score(y_test, y_pred_tree)\n",
    "print(\"Decision Tree Accuracy:\", accuracy_tree)\n",
    "print(classification_report(y_test, y_pred_tree))\n",
    "\n",
    "train_accuracy_logistic = logistic_model.score(X_train_scaled, y_train)\n",
    "print(\"Logistic Regression Training Accuracy:\", train_accuracy_logistic)\n",
    "\n",
    "train_accuracy_tree = decision_tree_model.score(X_train_scaled, y_train)\n",
    "print(\"Decision Tree Training Accuracy:\", train_accuracy_tree)"
   ]
  },
  {
   "cell_type": "code",
   "execution_count": null,
   "id": "916f6610-bb61-4b1d-b10b-02e36060c2fa",
   "metadata": {},
   "outputs": [],
   "source": [
    "# In summary, while both models demonstrate strong performance, The higher accuracy and better performance metrics across various classes indicate that the Decision Tree is a more suitable choice for this dataset compared to Logestic regression."
   ]
  },
  {
   "cell_type": "markdown",
   "id": "df82ac5f-98c9-42aa-8a5a-604a4fc7ad02",
   "metadata": {},
   "source": [
    "# Check for overfitting and take steps to address it."
   ]
  },
  {
   "cell_type": "code",
   "execution_count": 111,
   "id": "31daa198-565e-4f31-bf82-d5b9db62bad8",
   "metadata": {},
   "outputs": [
    {
     "name": "stdout",
     "output_type": "stream",
     "text": [
      "Logistic Regression Accuracy: 0.9387978142076503\n",
      "Logistic Regression Training Accuracy: 0.923469387755102\n",
      "Logistic Regression Cross-Validated Accuracy: 0.926097675174147\n",
      "Decision Tree Accuracy: 0.9387978142076503\n",
      "Decision Tree Training Accuracy: 0.924198250728863\n",
      "Decision Tree Cross-Validated Accuracy: 0.9269739042359035\n"
     ]
    }
   ],
   "source": [
    "import pandas as pd\n",
    "from sklearn.model_selection import train_test_split, cross_val_score\n",
    "from sklearn.linear_model import LogisticRegression\n",
    "from sklearn.tree import DecisionTreeClassifier\n",
    "from sklearn.metrics import accuracy_score\n",
    "\n",
    "df = pd.read_csv('used_car_cleaned.csv')\n",
    "\n",
    "target_variable = 'car_transmission'  \n",
    "X = df.drop(target_variable, axis=1)  \n",
    "y = df[target_variable]  \n",
    "\n",
    "X_encoded = pd.get_dummies(X, drop_first=True)\n",
    "\n",
    "X_train, X_test, y_train, y_test = train_test_split(X_encoded, y, test_size=0.4, random_state=1)\n",
    "\n",
    "logistic_model = LogisticRegression(multi_class='ovr', max_iter=1000, C=0.5)\n",
    "logistic_model.fit(X_train, y_train)\n",
    "\n",
    "y_pred_logistic = logistic_model.predict(X_test)\n",
    "accuracy_logistic = accuracy_score(y_test, y_pred_logistic)\n",
    "train_accuracy_logistic = logistic_model.score(X_train, y_train)\n",
    "\n",
    "print(\"Logistic Regression Accuracy:\", accuracy_logistic)\n",
    "print(\"Logistic Regression Training Accuracy:\", train_accuracy_logistic)\n",
    "\n",
    "cv_accuracy_logistic = cross_val_score(logistic_model, X_encoded, y, cv=5)\n",
    "print(\"Logistic Regression Cross-Validated Accuracy:\", cv_accuracy_logistic.mean())\n",
    "\n",
    "decision_tree_model = DecisionTreeClassifier(max_depth=3, random_state=1)\n",
    "decision_tree_model.fit(X_train, y_train)\n",
    "\n",
    "y_pred_tree = decision_tree_model.predict(X_test)\n",
    "accuracy_tree = accuracy_score(y_test, y_pred_tree)\n",
    "train_accuracy_tree = decision_tree_model.score(X_train, y_train)\n",
    "\n",
    "print(\"Decision Tree Accuracy:\", accuracy_tree)\n",
    "print(\"Decision Tree Training Accuracy:\", train_accuracy_tree)\n",
    "\n",
    "cv_accuracy_tree = cross_val_score(decision_tree_model, X_encoded, y, cv=5)\n",
    "print(\"Decision Tree Cross-Validated Accuracy:\", cv_accuracy_tree.mean())"
   ]
  },
  {
   "cell_type": "code",
   "execution_count": null,
   "id": "9b0c1782-0cd7-41fd-b81f-559a9af06072",
   "metadata": {},
   "outputs": [],
   "source": [
    "# Since the training accuracies are comparable to the test and cross-validated accuracies, there is no strong indication of overfitting in either model."
   ]
  },
  {
   "cell_type": "code",
   "execution_count": null,
   "id": "e8c45f62-1b7b-43f9-8bbf-e3f7c6d7f4f6",
   "metadata": {},
   "outputs": [],
   "source": [
    "# Model Performance: Both models perform well, with accuracies above 92%, but the Decision Tree model has a higher accuracy compared to the Logistic Regression model. This suggests that the Decision Tree might be better for my data."
   ]
  },
  {
   "cell_type": "markdown",
   "id": "9297dddf-7a2b-40b9-a354-26fc7498aa14",
   "metadata": {},
   "source": [
    "# Q14) Select one continuous variable as the target. Conduct Linear Regression and Regression Tree to predict it and compare the performance of the two models.Check for validity of assumptions (LINE). Check for overfitting and take steps to address it.\n"
   ]
  },
  {
   "cell_type": "markdown",
   "id": "2c30138c-f39d-4881-98d9-57ba028ea072",
   "metadata": {},
   "source": [
    "# Conduct Linear Regression "
   ]
  },
  {
   "cell_type": "code",
   "execution_count": 153,
   "id": "eca667f6-d003-4ec8-a8a0-9e9f6dfb4088",
   "metadata": {},
   "outputs": [
    {
     "name": "stdout",
     "output_type": "stream",
     "text": [
      "Training R-squared: 0.6794\n",
      "Test R-squared: 0.0007\n",
      "Training Adjusted R-squared: 0.6011\n",
      "Test Adjusted R-squared: -0.4160\n",
      "Test MSE: 2725796807421.3579\n"
     ]
    }
   ],
   "source": [
    "import pandas as pd\n",
    "from sklearn.model_selection import train_test_split\n",
    "from sklearn.linear_model import LinearRegression\n",
    "from sklearn.metrics import r2_score, mean_squared_error\n",
    "\n",
    "df = pd.read_csv('used_car_cleaned.csv')  \n",
    "\n",
    "X = df.drop('car_price', axis=1)  \n",
    "y = df['car_price']  \n",
    "\n",
    "X_encoded = pd.get_dummies(X, drop_first=True)\n",
    "\n",
    "X_train, X_test, y_train, y_test = train_test_split(X_encoded, y, test_size=0.4, random_state=1)\n",
    "\n",
    "linear_model = LinearRegression()\n",
    "linear_model.fit(X_train, y_train)\n",
    "\n",
    "y_train_pred = linear_model.predict(X_train)\n",
    "y_test_pred = linear_model.predict(X_test)\n",
    "\n",
    "r2_train = r2_score(y_train, y_train_pred)\n",
    "r2_test = r2_score(y_test, y_test_pred)\n",
    "\n",
    "mse_test = mean_squared_error(y_test, y_test_pred)\n",
    "\n",
    "n_train = X_train.shape[0]  # Number of training observations\n",
    "n_test = X_test.shape[0]    # Number of testing observations\n",
    "p = X_train.shape[1]        # Number of features\n",
    "\n",
    "adjusted_r2_train = 1 - (1 - r2_train) * (n_train - 1) / (n_train - p - 1)\n",
    "adjusted_r2_test = 1 - (1 - r2_test) * (n_test - 1) / (n_test - p - 1)\n",
    "\n",
    "print(f\"Training R-squared: {r2_train:.4f}\")\n",
    "print(f\"Test R-squared: {r2_test:.4f}\")\n",
    "print(f\"Training Adjusted R-squared: {adjusted_r2_train:.4f}\")\n",
    "print(f\"Test Adjusted R-squared: {adjusted_r2_test:.4f}\")\n",
    "print(f\"Test MSE: {mse_test:.4f}\")"
   ]
  },
  {
   "cell_type": "code",
   "execution_count": null,
   "id": "faf121ae-cdf7-41f5-8bf0-7fc455ed4fcd",
   "metadata": {},
   "outputs": [],
   "source": [
    "# As indicated by almost high training 𝑅 2, but very bad performs on the test set. The massive gap between training and test performance is a sign of overfitting."
   ]
  },
  {
   "cell_type": "code",
   "execution_count": null,
   "id": "add34c95-138b-4218-9c3c-e5f50304de1c",
   "metadata": {},
   "outputs": [],
   "source": [
    "# using regularization to address the overfitting issue.\n",
    "# using ridge regression\n",
    "\n",
    "# we Use techniques like Ridge or Lasso regression to penalize large coefficients and prevent the model from fitting the noise in the training data."
   ]
  },
  {
   "cell_type": "code",
   "execution_count": 154,
   "id": "a0cf1322-5042-47d6-869c-9dbdfe726671",
   "metadata": {},
   "outputs": [
    {
     "name": "stdout",
     "output_type": "stream",
     "text": [
      "Ridge Regression Test MSE: 2726458037647.768\n",
      "Ridge Regression Test R-squared: 0.0004942935769467471\n"
     ]
    }
   ],
   "source": [
    "ridge_model = Ridge(alpha=1.0) \n",
    "\n",
    "ridge_model.fit(X_train, y_train)\n",
    "\n",
    "y_pred_ridge = ridge_model.predict(X_test)\n",
    "\n",
    "mse_ridge = mean_squared_error(y_test, y_pred_ridge)\n",
    "r2_ridge = r2_score(y_test, y_pred_ridge)\n",
    "\n",
    "print(f\"Ridge Regression Test MSE: {mse_ridge}\")\n",
    "print(f\"Ridge Regression Test R-squared: {r2_ridge}\")"
   ]
  },
  {
   "cell_type": "code",
   "execution_count": null,
   "id": "586480c5-18dd-45ef-94f4-cdfee8ae63c4",
   "metadata": {},
   "outputs": [],
   "source": [
    "# As we see,  the Ridge regression model is not effective for the dataset in predicting car prices because MSE still is very high. So, it is better to choose another model for this dataset."
   ]
  },
  {
   "cell_type": "markdown",
   "id": "5f2e4d7f-45a5-4ce1-b87b-aa8dfe35451e",
   "metadata": {},
   "source": [
    "# Conduct Regression Tree  "
   ]
  },
  {
   "cell_type": "code",
   "execution_count": 155,
   "id": "15415ad0-41a0-4a4e-853d-995c76137e24",
   "metadata": {},
   "outputs": [
    {
     "name": "stdout",
     "output_type": "stream",
     "text": [
      "Training R-squared: 0.9999\n",
      "Test R-squared: -0.0003\n",
      "Training Adjusted R-squared: 0.9999\n",
      "Test Adjusted R-squared: -0.4174\n",
      "Test MSE: 2728511341676.4927\n"
     ]
    }
   ],
   "source": [
    "tree_model = DecisionTreeRegressor(random_state=42).fit(X_train, y_train)\n",
    "y_train_pred, y_test_pred = tree_model.predict(X_train), tree_model.predict(X_test)\n",
    "\n",
    "r2_train = r2_score(y_train, y_train_pred)\n",
    "r2_test = r2_score(y_test, y_test_pred)\n",
    "mse_test = mean_squared_error(y_test, y_test_pred)\n",
    "\n",
    "adj_r2_train = 1 - (1 - r2_train) * (n_train - 1) / (n_train - p - 1)\n",
    "adj_r2_test = 1 - (1 - r2_test) * (n_test - 1) / (n_test - p - 1)\n",
    "\n",
    "print(f\"Training R-squared: {r2_train:.4f}\")\n",
    "print(f\"Test R-squared: {r2_test:.4f}\")\n",
    "print(f\"Training Adjusted R-squared: {adj_r2_train:.4f}\")\n",
    "print(f\"Test Adjusted R-squared: {adj_r2_test:.4f}\")\n",
    "print(f\"Test MSE: {mse_test:.4f}\")\n"
   ]
  },
  {
   "cell_type": "code",
   "execution_count": null,
   "id": "282fd5d4-7291-495f-be78-acd63276ceae",
   "metadata": {},
   "outputs": [],
   "source": [
    "#  R2 indicates a perfect fit on the training data, but test R2 indicates that the model is performing poorly on the test set. So we have overfitting on this data."
   ]
  },
  {
   "cell_type": "code",
   "execution_count": null,
   "id": "45b0a0e9-b68c-421f-883e-12e855b64985",
   "metadata": {},
   "outputs": [],
   "source": [
    "# I use cross-validation technique to better assess model performance "
   ]
  },
  {
   "cell_type": "code",
   "execution_count": 127,
   "id": "6175f7c1-a329-45b5-b3b4-75516d592e2e",
   "metadata": {},
   "outputs": [
    {
     "name": "stdout",
     "output_type": "stream",
     "text": [
      "Test R-squared: -0.0003\n",
      "Cross-Validated R-squared: 0.5052\n",
      "Test MSE: 2728511341676.4927\n",
      "Cross-Validated Mean Squared Error: -0.5052\n"
     ]
    }
   ],
   "source": [
    "tree_model = DecisionTreeRegressor(random_state=42)\n",
    "\n",
    "cv_scores = cross_val_score(tree_model, X_train, y_train, cv=5)\n",
    "cv_mse = -cv_scores.mean()  \n",
    "cv_r2 = cross_val_score(tree_model, X_train, y_train, cv=5).mean()\n",
    "\n",
    "tree_model.fit(X_train, y_train)\n",
    "\n",
    "y_test_pred = tree_model.predict(X_test)\n",
    "\n",
    "test_mse = mean_squared_error(y_test, y_test_pred)\n",
    "test_r2 = r2_score(y_test, y_test_pred)\n",
    "\n",
    "print(f\"Test R-squared: {test_r2:.4f}\")\n",
    "print(f\"Cross-Validated R-squared: {cv_r2:.4f}\")\n",
    "print(f\"Test MSE: {test_mse:.4f}\")\n",
    "print(f\"Cross-Validated Mean Squared Error: {cv_mse:.4f}\")"
   ]
  },
  {
   "cell_type": "code",
   "execution_count": null,
   "id": "d892acad-c16b-4638-8a70-09c6849cb130",
   "metadata": {},
   "outputs": [],
   "source": [
    "# These results suggest that the regression tree model is not performing well on the dataset. The high MSE indicates large prediction errors, and the negative R² confirms that the model does not explain the variance in the target variable effectively."
   ]
  },
  {
   "cell_type": "markdown",
   "id": "7b94b198-8bde-4d5d-98a1-efdabf679472",
   "metadata": {},
   "source": [
    "# Comparison:"
   ]
  },
  {
   "cell_type": "code",
   "execution_count": null,
   "id": "cc56b08b-2917-4674-bd94-72aaaaa6bc35",
   "metadata": {},
   "outputs": [],
   "source": [
    "# Despite both models having negative R-squared values indicating poor performance, the Decision Tree shows relatively better predictive accuracy."
   ]
  },
  {
   "cell_type": "markdown",
   "id": "9739579d-09da-4d0f-9596-e964caab5f43",
   "metadata": {},
   "source": [
    "# Check for validity of assumptions (LINE)"
   ]
  },
  {
   "cell_type": "markdown",
   "id": "af7557cb-82e2-4a66-aec1-e18f8c7bb1be",
   "metadata": {},
   "source": [
    "# Linearity"
   ]
  },
  {
   "cell_type": "code",
   "execution_count": 139,
   "id": "15774e70-e1a0-4f2f-b580-e0ab2f55aaaa",
   "metadata": {},
   "outputs": [
    {
     "data": {
      "text/html": [
       "<div>\n",
       "<style scoped>\n",
       "    .dataframe tbody tr th:only-of-type {\n",
       "        vertical-align: middle;\n",
       "    }\n",
       "\n",
       "    .dataframe tbody tr th {\n",
       "        vertical-align: top;\n",
       "    }\n",
       "\n",
       "    .dataframe thead th {\n",
       "        text-align: right;\n",
       "    }\n",
       "</style>\n",
       "<table border=\"1\" class=\"dataframe\">\n",
       "  <thead>\n",
       "    <tr style=\"text-align: right;\">\n",
       "      <th></th>\n",
       "      <th>car_price</th>\n",
       "      <th>car_driven</th>\n",
       "    </tr>\n",
       "  </thead>\n",
       "  <tbody>\n",
       "    <tr>\n",
       "      <th>car_price</th>\n",
       "      <td>1.000000</td>\n",
       "      <td>-0.033838</td>\n",
       "    </tr>\n",
       "    <tr>\n",
       "      <th>car_driven</th>\n",
       "      <td>-0.033838</td>\n",
       "      <td>1.000000</td>\n",
       "    </tr>\n",
       "  </tbody>\n",
       "</table>\n",
       "</div>"
      ],
      "text/plain": [
       "            car_price  car_driven\n",
       "car_price    1.000000   -0.033838\n",
       "car_driven  -0.033838    1.000000"
      ]
     },
     "execution_count": 139,
     "metadata": {},
     "output_type": "execute_result"
    }
   ],
   "source": [
    "# Linearity: The relationship between independent variables (features) and the dependent variable (target) should be linear.\n",
    "correlation = df[['car_price', 'car_driven']].corr()\n",
    "\n",
    "correlation "
   ]
  },
  {
   "cell_type": "markdown",
   "id": "ef20d832-b00c-4ee9-bf63-9dffd0395ce0",
   "metadata": {},
   "source": [
    "# There is a negative weak linear relationship."
   ]
  },
  {
   "cell_type": "code",
   "execution_count": null,
   "id": "e1d81f52-494a-44a6-b50d-4e149a5895dd",
   "metadata": {},
   "outputs": [],
   "source": []
  },
  {
   "cell_type": "markdown",
   "id": "f3678de8-6992-48a6-b8e3-76692a4bf23c",
   "metadata": {},
   "source": [
    "# Independence"
   ]
  },
  {
   "cell_type": "code",
   "execution_count": 140,
   "id": "8e842bda-488c-4538-9b07-3bbffd224a93",
   "metadata": {},
   "outputs": [
    {
     "name": "stdout",
     "output_type": "stream",
     "text": [
      "Durbin-Watson statistic: 2.0010\n"
     ]
    }
   ],
   "source": [
    "import pandas as pd\n",
    "from sklearn.model_selection import train_test_split\n",
    "from sklearn.linear_model import LinearRegression\n",
    "from sklearn.metrics import r2_score, mean_squared_error\n",
    "from statsmodels.stats.stattools import durbin_watson\n",
    "\n",
    "df = pd.read_csv('used_car_cleaned.csv')  \n",
    "\n",
    "X = df.drop('car_price', axis=1)  \n",
    "y = df['car_price']  \n",
    "\n",
    "X_encoded = pd.get_dummies(X, drop_first=True)\n",
    "\n",
    "X_train, X_test, y_train, y_test = train_test_split(X_encoded, y, test_size=0.4, random_state=1)\n",
    "\n",
    "linear_model = LinearRegression()\n",
    "linear_model.fit(X_train, y_train)\n",
    "\n",
    "y_train_pred = linear_model.predict(X_train)\n",
    "y_test_pred = linear_model.predict(X_test)\n",
    "\n",
    "residuals = y_test - y_test_pred\n",
    "\n",
    "dw_statistic = durbin_watson(residuals)\n",
    "\n",
    "print(f'Durbin-Watson statistic: {dw_statistic:.4f}')\n"
   ]
  },
  {
   "cell_type": "markdown",
   "id": "a6b172b6-6259-4ac5-a346-0dc1f1bc08e6",
   "metadata": {},
   "source": [
    "# Durbin-Watson statistic ≈ 2: The residuals are independent (no autocorrelation), which means the data satisfies the independence assumption."
   ]
  },
  {
   "cell_type": "markdown",
   "id": "0648d0ce-5e7b-461b-9b70-2fa896b70e61",
   "metadata": {},
   "source": [
    "# Normality"
   ]
  },
  {
   "cell_type": "code",
   "execution_count": 142,
   "id": "dfbbcf7c-140f-47d8-b13a-59ae62f44083",
   "metadata": {},
   "outputs": [
    {
     "name": "stdout",
     "output_type": "stream",
     "text": [
      "Statistic: 0.1700, p-value: 0.0000\n",
      "Reject the null hypothesis: residuals are not normally distributed\n"
     ]
    }
   ],
   "source": [
    "import pandas as pd\n",
    "import numpy as np\n",
    "from scipy import stats\n",
    "from sklearn.linear_model import LinearRegression\n",
    "from sklearn.model_selection import train_test_split\n",
    "\n",
    "df = pd.read_csv('used_car_cleaned.csv') \n",
    "\n",
    "X = df.drop('car_price', axis=1)  \n",
    "y = df['car_price']  \n",
    "\n",
    "X_encoded = pd.get_dummies(X, drop_first=False)\n",
    "\n",
    "X_train, X_test, y_train, y_test = train_test_split(X_encoded, y, test_size=0.4, random_state=1)\n",
    "\n",
    "linear_model = LinearRegression()\n",
    "linear_model.fit(X_train, y_train)\n",
    "\n",
    "y_pred = linear_model.predict(X_test)\n",
    "\n",
    "residuals = y_test - y_pred\n",
    "\n",
    "stat, p_value = stats.shapiro(residuals)\n",
    "\n",
    "print(f'Statistic: {stat:.4f}, p-value: {p_value:.4f}')\n",
    "\n",
    "alpha = 0.05  \n",
    "if p_value > alpha:\n",
    "    print(\"Fail to reject the null hypothesis: residuals are normally distributed\")\n",
    "else:\n",
    "    print(\"Reject the null hypothesis: residuals are not normally distributed\")\n"
   ]
  },
  {
   "cell_type": "markdown",
   "id": "0d629b04-42a5-4936-a6a5-27591d445a4c",
   "metadata": {},
   "source": [
    "# Homoscedasticity"
   ]
  },
  {
   "cell_type": "code",
   "execution_count": 146,
   "id": "9363488f-1c00-46c5-8fb8-adc5087bcabc",
   "metadata": {},
   "outputs": [
    {
     "name": "stdout",
     "output_type": "stream",
     "text": [
      "Levene's test statistic: 7.1083, p-value: 0.0078\n",
      "Heteroscedasticity present\n"
     ]
    }
   ],
   "source": [
    "import pandas as pd\n",
    "import numpy as np\n",
    "from sklearn.model_selection import train_test_split\n",
    "from sklearn.linear_model import LinearRegression\n",
    "from scipy.stats import levene\n",
    "\n",
    "df_encoded = pd.read_csv('used_car_cleaned.csv')  \n",
    "\n",
    "X_train, X_test, y_train, y_test = train_test_split(\n",
    "    df_encoded[['car_driven']],  \n",
    "    df_encoded['car_price'],    \n",
    "    test_size=0.4,\n",
    "    random_state=42\n",
    ")\n",
    "\n",
    "model = LinearRegression().fit(X_train, y_train)\n",
    "\n",
    "residuals = y_test - model.predict(X_test)\n",
    "\n",
    "stat, p_value = levene(\n",
    "    residuals[X_test['car_driven'] <= np.median(X_test['car_driven'])], \n",
    "    residuals[X_test['car_driven'] > np.median(X_test['car_driven'])]\n",
    ")\n",
    "\n",
    "print(f\"Levene's test statistic: {stat:.4f}, p-value: {p_value:.4f}\")\n",
    "print(\"Homogeneity of variance\" if p_value > 0.05 else \"Heteroscedasticity present\")"
   ]
  },
  {
   "cell_type": "markdown",
   "id": "54710bef-1b7c-4fbc-809f-2aaebd0cb6b0",
   "metadata": {},
   "source": [
    "# Since the p-value (0.0078) is less than 0.05, we reject the null hypothesis. This suggests that there is sufficient evidence to conclude that the variances are not equal among the groups."
   ]
  }
 ],
 "metadata": {
  "kernelspec": {
   "display_name": "Python 3 (ipykernel)",
   "language": "python",
   "name": "python3"
  },
  "language_info": {
   "codemirror_mode": {
    "name": "ipython",
    "version": 3
   },
   "file_extension": ".py",
   "mimetype": "text/x-python",
   "name": "python",
   "nbconvert_exporter": "python",
   "pygments_lexer": "ipython3",
   "version": "3.12.4"
  }
 },
 "nbformat": 4,
 "nbformat_minor": 5
}
